{
 "cells": [
  {
   "cell_type": "markdown",
   "metadata": {},
   "source": [
    "# Treasure Hunt Game Notebook\n",
    "\n",
    "## Read and Review Your Starter Code\n",
    "The theme of this project is a popular treasure hunt game in which the player needs to find the treasure before the pirate does. While you will not be developing the entire game, you will write the part of the game that represents the intelligent agent, which is a pirate in this case. The pirate will try to find the optimal path to the treasure using deep Q-learning. \n",
    "\n",
    "You have been provided with two Python classes and this notebook to help you with this assignment. The first class, TreasureMaze.py, represents the environment, which includes a maze object defined as a matrix. The second class, GameExperience.py, stores the episodes – that is, all the states that come in between the initial state and the terminal state. This is later used by the agent for learning by experience, called \"exploration\". This notebook shows how to play a game. Your task is to complete the deep Q-learning implementation for which a skeleton implementation has been provided. The code blocks you will need to complete has #TODO as a header.\n",
    "\n",
    "First, read and review the next few code and instruction blocks to understand the code that you have been given."
   ]
  },
  {
   "cell_type": "code",
   "execution_count": 49,
   "metadata": {},
   "outputs": [],
   "source": [
    "from __future__ import print_function\n",
    "import os, sys, time, datetime, json, random\n",
    "import numpy as np\n",
    "from keras.models import Sequential\n",
    "from keras.layers.core import Dense, Activation\n",
    "from keras.optimizers import SGD , Adam, RMSprop\n",
    "from keras.layers.advanced_activations import PReLU\n",
    "import matplotlib.pyplot as plt\n",
    "from TreasureMaze import TreasureMaze\n",
    "from GameExperience import GameExperience\n",
    "%matplotlib inline"
   ]
  },
  {
   "cell_type": "markdown",
   "metadata": {},
   "source": [
    "The following code block contains an 8x8 matrix that will be used as a maze object:"
   ]
  },
  {
   "cell_type": "code",
   "execution_count": 50,
   "metadata": {},
   "outputs": [],
   "source": [
    "maze = np.array([\n",
    "    [ 1.,  0.,  1.,  1.,  1.,  1.,  1.,  1.],\n",
    "    [ 1.,  0.,  1.,  1.,  1.,  0.,  1.,  1.],\n",
    "    [ 1.,  1.,  1.,  1.,  0.,  1.,  0.,  1.],\n",
    "    [ 1.,  1.,  1.,  0.,  1.,  1.,  1.,  1.],\n",
    "    [ 1.,  1.,  0.,  1.,  1.,  1.,  1.,  1.],\n",
    "    [ 1.,  1.,  1.,  0.,  1.,  0.,  0.,  0.],\n",
    "    [ 1.,  1.,  1.,  0.,  1.,  1.,  1.,  1.],\n",
    "    [ 1.,  1.,  1.,  1.,  0.,  1.,  1.,  1.]\n",
    "])"
   ]
  },
  {
   "cell_type": "markdown",
   "metadata": {},
   "source": [
    "This helper function allows a visual representation of the maze object:"
   ]
  },
  {
   "cell_type": "code",
   "execution_count": 51,
   "metadata": {},
   "outputs": [],
   "source": [
    "def show(qmaze):\n",
    "    plt.grid('on')\n",
    "    nrows, ncols = qmaze.maze.shape\n",
    "    ax = plt.gca()\n",
    "    ax.set_xticks(np.arange(0.5, nrows, 1))\n",
    "    ax.set_yticks(np.arange(0.5, ncols, 1))\n",
    "    ax.set_xticklabels([])\n",
    "    ax.set_yticklabels([])\n",
    "    canvas = np.copy(qmaze.maze)\n",
    "    for row,col in qmaze.visited:\n",
    "        canvas[row,col] = 0.6\n",
    "    pirate_row, pirate_col, _ = qmaze.state\n",
    "    canvas[pirate_row, pirate_col] = 0.3   # pirate cell\n",
    "    canvas[nrows-1, ncols-1] = 0.9 # treasure cell\n",
    "    img = plt.imshow(canvas, interpolation='none', cmap='gray')\n",
    "    return img"
   ]
  },
  {
   "cell_type": "markdown",
   "metadata": {},
   "source": [
    "The pirate agent can move in four directions: left, right, up, and down. \n",
    "\n",
    "While the agent primarily learns by experience through exploitation, often, the agent can choose to explore the environment to find previously undiscovered paths. This is called \"exploration\" and is defined by epsilon. This value is typically a lower value such as 0.1, which means for every ten attempts, the agent will attempt to learn by experience nine times and will randomly explore a new path one time. You are encouraged to try various values for the exploration factor and see how the algorithm performs."
   ]
  },
  {
   "cell_type": "code",
   "execution_count": 52,
   "metadata": {},
   "outputs": [],
   "source": [
    "LEFT = 0\n",
    "UP = 1\n",
    "RIGHT = 2\n",
    "DOWN = 3\n",
    "\n",
    "\n",
    "# Exploration factor\n",
    "epsilon = 0.1\n",
    "\n",
    "# Actions dictionary\n",
    "actions_dict = {\n",
    "    LEFT: 'left',\n",
    "    UP: 'up',\n",
    "    RIGHT: 'right',\n",
    "    DOWN: 'down',\n",
    "}\n",
    "\n",
    "num_actions = len(actions_dict)\n"
   ]
  },
  {
   "cell_type": "markdown",
   "metadata": {},
   "source": [
    "The sample code block and output below show creating a maze object and performing one action (DOWN), which returns the reward. The resulting updated environment is visualized."
   ]
  },
  {
   "cell_type": "code",
   "execution_count": 53,
   "metadata": {},
   "outputs": [
    {
     "name": "stdout",
     "output_type": "stream",
     "text": [
      "reward= -0.04\n"
     ]
    },
    {
     "data": {
      "text/plain": [
       "<matplotlib.image.AxesImage at 0x12c65249c48>"
      ]
     },
     "execution_count": 53,
     "metadata": {},
     "output_type": "execute_result"
    },
    {
     "data": {
      "image/png": "[encoded data removed]",
      "text/plain": [
       "<Figure size 432x288 with 1 Axes>"
      ]
     },
     "metadata": {
      "needs_background": "light"
     },
     "output_type": "display_data"
    }
   ],
   "source": [
    "qmaze = TreasureMaze(maze)\n",
    "canvas, reward, game_over = qmaze.act(DOWN)\n",
    "print(\"reward=\", reward)\n",
    "show(qmaze)"
   ]
  },
  {
   "cell_type": "markdown",
   "metadata": {},
   "source": [
    "This function simulates a full game based on the provided trained model. The other parameters include the TreasureMaze object and the starting position of the pirate."
   ]
  },
  {
   "cell_type": "code",
   "execution_count": 54,
   "metadata": {},
   "outputs": [],
   "source": [
    "def play_game(model, qmaze, pirate_cell):\n",
    "    qmaze.reset(pirate_cell)\n",
    "    envstate = qmaze.observe()\n",
    "    while True:\n",
    "        prev_envstate = envstate\n",
    "        # get next action\n",
    "        q = model.predict(prev_envstate)\n",
    "        action = np.argmax(q[0])\n",
    "\n",
    "        # apply action, get rewards and new state\n",
    "        envstate, reward, game_status = qmaze.act(action)\n",
    "        if game_status == 'win':\n",
    "            return True\n",
    "        elif game_status == 'lose':\n",
    "            return False"
   ]
  },
  {
   "cell_type": "markdown",
   "metadata": {},
   "source": [
    "This function helps you to determine whether the pirate can win any game at all. If your maze is not well designed, the pirate may not win any game at all. In this case, your training would not yield any result. The provided maze in this notebook ensures that there is a path to win and you can run this method to check."
   ]
  },
  {
   "cell_type": "code",
   "execution_count": 55,
   "metadata": {},
   "outputs": [],
   "source": [
    "def completion_check(model, qmaze):\n",
    "    for cell in qmaze.free_cells:\n",
    "        if not qmaze.valid_actions(cell):\n",
    "            return False\n",
    "        if not play_game(model, qmaze, cell):\n",
    "            return False\n",
    "    return True"
   ]
  },
  {
   "cell_type": "markdown",
   "metadata": {},
   "source": [
    "The code you have been given in this block will build the neural network model. Review the code and note the number of layers, as well as the activation, optimizer, and loss functions that are used to train the model."
   ]
  },
  {
   "cell_type": "code",
   "execution_count": 56,
   "metadata": {},
   "outputs": [],
   "source": [
    "def build_model(maze):\n",
    "    model = Sequential()\n",
    "    model.add(Dense(maze.size, input_shape=(maze.size,)))\n",
    "    model.add(PReLU())\n",
    "    model.add(Dense(maze.size))\n",
    "    model.add(PReLU())\n",
    "    model.add(Dense(num_actions))\n",
    "    model.compile(optimizer='adam', loss='mse')\n",
    "    return model"
   ]
  },
  {
   "cell_type": "markdown",
   "metadata": {},
   "source": [
    "# #TODO: Complete the Q-Training Algorithm Code Block\n",
    "\n",
    "This is your deep Q-learning implementation. The goal of your deep Q-learning implementation is to find the best possible navigation sequence that results in reaching the treasure cell while maximizing the reward. In your implementation, you need to determine the optimal number of epochs to achieve a 100% win rate.\n",
    "\n",
    "You will need to complete the section starting with #pseudocode. The pseudocode has been included for you."
   ]
  },
  {
   "cell_type": "code",
   "execution_count": 57,
   "metadata": {},
   "outputs": [],
   "source": [
    "def qtrain(model, maze, **opt):\n",
    "\n",
    "    # exploration factor\n",
    "    global epsilon \n",
    "\n",
    "    # number of epochs\n",
    "    n_epoch = opt.get('epochs', 15000)\n",
    "\n",
    "    # maximum memory to store episodes\n",
    "    max_memory = opt.get('max_memory', 1000)\n",
    "\n",
    "    # maximum data size for training\n",
    "    data_size = opt.get('data_size', 50)\n",
    "\n",
    "    # start time\n",
    "    start_time = datetime.datetime.now()\n",
    "\n",
    "    # Construct environment/game from numpy array: maze (see above)\n",
    "    qmaze = TreasureMaze(maze)\n",
    "\n",
    "    # Initialize experience replay object\n",
    "    experience = GameExperience(model, max_memory=max_memory)\n",
    "    \n",
    "    win_history = []   # history of win/lose game\n",
    "    hsize = qmaze.maze.size//2   # history window size\n",
    "    win_rate = 0.0\n",
    "    \n",
    "    INITIAL_EPSILON = 0.1\n",
    "    FINAL_EPSILON = 0.01\n",
    "    EXPLORATION_DECAY = 0.995\n",
    "    \n",
    "    epsilon = INITIAL_EPSILON # start at 0.1 and reduce to 0.01\n",
    "    \n",
    "    # for each epoch \n",
    "    for epoch in range (n_epoch):\n",
    "        \n",
    "        loss = 0\n",
    "        n_episodes = 0 # tally number of episodes\n",
    "                \n",
    "        game_over = False # game starting state is not over    \n",
    "    \n",
    "        # find a random free cell  \n",
    "        agent_cell = random.choice(qmaze.free_cells)\n",
    "        qmaze.reset(pirate=agent_cell) # reset maze with agent in the agent cell\n",
    "        \n",
    "        envstate = qmaze.observe() # current state of environment \n",
    "        \n",
    "        # while game is still ongoing\n",
    "        while game_over == False:\n",
    "\n",
    "            prev_envstate = envstate # save current state\n",
    "            \n",
    "            # explore or exploit based on exploration rate\n",
    "            if (np.random.uniform(0,1) < epsilon): # explore\n",
    "                # choose a random valid action\n",
    "                action = random.choice(qmaze.valid_actions())\n",
    "            else: # exploit\n",
    "                # predict next action\n",
    "                q = experience.predict(prev_envstate)\n",
    "                action = np.argmax(q)\n",
    "            \n",
    "            #apply action and get reward\n",
    "            envstate, reward, game_status = qmaze.act(action)\n",
    "        \n",
    "            # save episode\n",
    "            episode = [prev_envstate, action, reward, envstate, game_status]\n",
    "            experience.remember(episode)\n",
    "            \n",
    "            n_episodes += 1 # increment episode count\n",
    "            \n",
    "            # get training data  \n",
    "            inputs, targets = experience.get_data()\n",
    "        \n",
    "            # train network and evaluate loss\n",
    "            model.fit(inputs, targets, verbose=0)\n",
    "            loss = model.evaluate(inputs, targets, verbose=0)\n",
    "            \n",
    "            # check game status and update win history\n",
    "            if game_status == 'win':\n",
    "                win_history.append(1)\n",
    "                game_over = True\n",
    "            if game_status == 'lose':\n",
    "                win_history.append(0)\n",
    "                game_over = True\n",
    "                \n",
    "            # calculate win rate\n",
    "            if len(win_history) > 0: # avoids division by 0\n",
    "                # get win rate for episodes in the history window\n",
    "                win_rate = sum(win_history[-hsize:]) / hsize\n",
    "        \n",
    "            # decrease exploration rate\n",
    "            if (epsilon > FINAL_EPSILON):\n",
    "                epsilon *= EXPLORATION_DECAY\n",
    "                epsilon = max(FINAL_EPSILON, epsilon)\n",
    "        \n",
    "        #Print the epoch, loss, episodes, win count, and win rate for each epoch\n",
    "        dt = datetime.datetime.now() - start_time\n",
    "        t = format_time(dt.total_seconds())\n",
    "        \n",
    "        # We simply check if training has exhausted all free cells and if in all\n",
    "        # cases the agent won.\n",
    "        template = \"Epoch: {:03d}/{:d} | Loss: {:.4f} |Episodes:{:d} | Win count: {:d} | Win rate: {:.3f} | time: {}\"\n",
    "        print(template.format(epoch, n_epoch-1, loss, n_episodes, sum(win_history), win_rate, t))\n",
    "        \n",
    "        if win_rate > 0.9 : epsilon = 0.001 # decrease epsilon if win rate is over 90%\n",
    "        if sum(win_history[-hsize:]) == hsize and completion_check(model, qmaze):\n",
    "            print(\"Reached 100%% win rate at epoch: %d\" % (epoch,))\n",
    "            break\n",
    "            \n",
    "    \n",
    "    # Determine the total time for training\n",
    "    dt = datetime.datetime.now() - start_time\n",
    "    seconds = dt.total_seconds()\n",
    "    t = format_time(seconds)\n",
    "    print(\"n_epoch: %d, max_mem: %d, data: %d, time: %s\" % (epoch, max_memory, data_size, t))\n",
    "    return seconds\n",
    "\n",
    "# This is a small utility for printing readable time strings:\n",
    "def format_time(seconds):\n",
    "    if seconds < 400:\n",
    "        s = float(seconds)\n",
    "        return \"%.1f seconds\" % (s,)\n",
    "    elif seconds < 4000:\n",
    "        m = seconds / 60.0\n",
    "        return \"%.2f minutes\" % (m,)\n",
    "    else:\n",
    "        h = seconds / 3600.0\n",
    "        return \"%.2f hours\" % (h,)"
   ]
  },
  {
   "cell_type": "code",
   "execution_count": null,
   "metadata": {},
   "outputs": [],
   "source": []
  },
  {
   "cell_type": "markdown",
   "metadata": {},
   "source": [
    "## Test Your Model\n",
    "\n",
    "Now we will start testing the deep Q-learning implementation. To begin, select **Cell**, then **Run All** from the menu bar. This will run your notebook. As it runs, you should see output begin to appear beneath the next few cells. The code below creates an instance of TreasureMaze."
   ]
  },
  {
   "cell_type": "code",
   "execution_count": 58,
   "metadata": {
    "scrolled": false
   },
   "outputs": [
    {
     "data": {
      "text/plain": [
       "<matplotlib.image.AxesImage at 0x12c653b9f08>"
      ]
     },
     "execution_count": 58,
     "metadata": {},
     "output_type": "execute_result"
    },
    {
     "data": {
      "image/png": "[encoded data removed]",
      "text/plain": [
       "<Figure size 432x288 with 1 Axes>"
      ]
     },
     "metadata": {
      "needs_background": "light"
     },
     "output_type": "display_data"
    }
   ],
   "source": [
    "qmaze = TreasureMaze(maze)\n",
    "show(qmaze)"
   ]
  },
  {
   "cell_type": "markdown",
   "metadata": {},
   "source": [
    "In the next code block, you will build your model and train it using deep Q-learning. Note: This step takes several minutes to fully run."
   ]
  },
  {
   "cell_type": "code",
   "execution_count": 59,
   "metadata": {
    "scrolled": true
   },
   "outputs": [
    {
     "name": "stdout",
     "output_type": "stream",
     "text": [
      "Epoch: 000/999 | Loss: 0.0011 |Episodes:144 | Win count: 0 | Win rate: 0.000 | time: 4.1 seconds\n",
      "Epoch: 001/999 | Loss: 0.0001 |Episodes:132 | Win count: 0 | Win rate: 0.000 | time: 6.5 seconds\n",
      "Epoch: 002/999 | Loss: 0.0004 |Episodes:130 | Win count: 0 | Win rate: 0.000 | time: 8.9 seconds\n",
      "Epoch: 003/999 | Loss: 0.0002 |Episodes:133 | Win count: 0 | Win rate: 0.000 | time: 11.5 seconds\n",
      "Epoch: 004/999 | Loss: 0.0018 |Episodes:132 | Win count: 0 | Win rate: 0.000 | time: 14.0 seconds\n",
      "Epoch: 005/999 | Loss: 0.0014 |Episodes:139 | Win count: 0 | Win rate: 0.000 | time: 16.9 seconds\n",
      "Epoch: 006/999 | Loss: 0.0003 |Episodes:141 | Win count: 0 | Win rate: 0.000 | time: 19.4 seconds\n",
      "Epoch: 007/999 | Loss: 0.0023 |Episodes:20 | Win count: 1 | Win rate: 0.031 | time: 19.7 seconds\n",
      "Epoch: 008/999 | Loss: 0.0004 |Episodes:60 | Win count: 2 | Win rate: 0.062 | time: 20.8 seconds\n",
      "Epoch: 009/999 | Loss: 0.0005 |Episodes:138 | Win count: 2 | Win rate: 0.062 | time: 23.2 seconds\n",
      "Epoch: 010/999 | Loss: 0.0008 |Episodes:108 | Win count: 3 | Win rate: 0.094 | time: 25.1 seconds\n",
      "Epoch: 011/999 | Loss: 0.0311 |Episodes:139 | Win count: 3 | Win rate: 0.094 | time: 27.3 seconds\n",
      "Epoch: 012/999 | Loss: 0.0337 |Episodes:22 | Win count: 4 | Win rate: 0.125 | time: 27.7 seconds\n",
      "Epoch: 013/999 | Loss: 0.0011 |Episodes:70 | Win count: 5 | Win rate: 0.156 | time: 28.9 seconds\n",
      "Epoch: 014/999 | Loss: 0.0013 |Episodes:83 | Win count: 6 | Win rate: 0.188 | time: 30.4 seconds\n",
      "Epoch: 015/999 | Loss: 0.0025 |Episodes:30 | Win count: 7 | Win rate: 0.219 | time: 31.0 seconds\n",
      "Epoch: 016/999 | Loss: 0.0012 |Episodes:139 | Win count: 7 | Win rate: 0.219 | time: 33.6 seconds\n",
      "Epoch: 017/999 | Loss: 0.0015 |Episodes:86 | Win count: 8 | Win rate: 0.250 | time: 35.2 seconds\n",
      "Epoch: 018/999 | Loss: 0.0008 |Episodes:142 | Win count: 8 | Win rate: 0.250 | time: 37.5 seconds\n",
      "Epoch: 019/999 | Loss: 0.0007 |Episodes:156 | Win count: 8 | Win rate: 0.250 | time: 40.0 seconds\n",
      "Epoch: 020/999 | Loss: 0.0011 |Episodes:2 | Win count: 9 | Win rate: 0.281 | time: 40.1 seconds\n",
      "Epoch: 021/999 | Loss: 0.0002 |Episodes:137 | Win count: 9 | Win rate: 0.281 | time: 42.5 seconds\n",
      "Epoch: 022/999 | Loss: 0.0002 |Episodes:1 | Win count: 10 | Win rate: 0.312 | time: 42.5 seconds\n",
      "Epoch: 023/999 | Loss: 0.0003 |Episodes:139 | Win count: 10 | Win rate: 0.312 | time: 45.1 seconds\n",
      "Epoch: 024/999 | Loss: 0.0003 |Episodes:105 | Win count: 11 | Win rate: 0.344 | time: 47.1 seconds\n",
      "Epoch: 025/999 | Loss: 0.0018 |Episodes:79 | Win count: 12 | Win rate: 0.375 | time: 48.6 seconds\n",
      "Epoch: 026/999 | Loss: 0.0012 |Episodes:64 | Win count: 13 | Win rate: 0.406 | time: 49.6 seconds\n",
      "Epoch: 027/999 | Loss: 0.0027 |Episodes:27 | Win count: 14 | Win rate: 0.438 | time: 50.1 seconds\n",
      "Epoch: 028/999 | Loss: 0.0020 |Episodes:86 | Win count: 15 | Win rate: 0.469 | time: 51.7 seconds\n",
      "Epoch: 029/999 | Loss: 0.0034 |Episodes:103 | Win count: 16 | Win rate: 0.500 | time: 53.4 seconds\n",
      "Epoch: 030/999 | Loss: 0.0013 |Episodes:138 | Win count: 16 | Win rate: 0.500 | time: 55.8 seconds\n",
      "Epoch: 031/999 | Loss: 0.0007 |Episodes:138 | Win count: 16 | Win rate: 0.500 | time: 58.3 seconds\n",
      "Epoch: 032/999 | Loss: 0.0002 |Episodes:5 | Win count: 17 | Win rate: 0.531 | time: 58.3 seconds\n",
      "Epoch: 033/999 | Loss: 0.0012 |Episodes:13 | Win count: 18 | Win rate: 0.562 | time: 58.6 seconds\n",
      "Epoch: 034/999 | Loss: 0.0009 |Episodes:139 | Win count: 18 | Win rate: 0.562 | time: 61.2 seconds\n",
      "Epoch: 035/999 | Loss: 0.0013 |Episodes:135 | Win count: 18 | Win rate: 0.562 | time: 63.8 seconds\n",
      "Epoch: 036/999 | Loss: 0.0003 |Episodes:136 | Win count: 18 | Win rate: 0.562 | time: 66.7 seconds\n",
      "Epoch: 037/999 | Loss: 0.0013 |Episodes:94 | Win count: 19 | Win rate: 0.594 | time: 68.2 seconds\n",
      "Epoch: 038/999 | Loss: 0.0009 |Episodes:1 | Win count: 20 | Win rate: 0.625 | time: 68.2 seconds\n",
      "Epoch: 039/999 | Loss: 0.0016 |Episodes:139 | Win count: 20 | Win rate: 0.594 | time: 71.0 seconds\n",
      "Epoch: 040/999 | Loss: 0.0008 |Episodes:132 | Win count: 20 | Win rate: 0.562 | time: 73.7 seconds\n",
      "Epoch: 041/999 | Loss: 0.0021 |Episodes:69 | Win count: 21 | Win rate: 0.594 | time: 75.1 seconds\n",
      "Epoch: 042/999 | Loss: 0.0324 |Episodes:117 | Win count: 22 | Win rate: 0.594 | time: 77.6 seconds\n",
      "Epoch: 043/999 | Loss: 0.0019 |Episodes:111 | Win count: 23 | Win rate: 0.625 | time: 79.7 seconds\n",
      "Epoch: 044/999 | Loss: 0.0002 |Episodes:141 | Win count: 23 | Win rate: 0.594 | time: 82.4 seconds\n",
      "Epoch: 045/999 | Loss: 0.0013 |Episodes:139 | Win count: 23 | Win rate: 0.562 | time: 85.2 seconds\n",
      "Epoch: 046/999 | Loss: 0.0011 |Episodes:148 | Win count: 23 | Win rate: 0.531 | time: 87.9 seconds\n",
      "Epoch: 047/999 | Loss: 0.0012 |Episodes:139 | Win count: 23 | Win rate: 0.500 | time: 90.9 seconds\n",
      "Epoch: 048/999 | Loss: 0.0015 |Episodes:141 | Win count: 23 | Win rate: 0.500 | time: 93.4 seconds\n",
      "Epoch: 049/999 | Loss: 0.0009 |Episodes:136 | Win count: 23 | Win rate: 0.469 | time: 96.2 seconds\n",
      "Epoch: 050/999 | Loss: 0.0008 |Episodes:136 | Win count: 23 | Win rate: 0.469 | time: 98.7 seconds\n",
      "Epoch: 051/999 | Loss: 0.0002 |Episodes:2 | Win count: 24 | Win rate: 0.500 | time: 98.8 seconds\n",
      "Epoch: 052/999 | Loss: 0.0016 |Episodes:138 | Win count: 24 | Win rate: 0.469 | time: 101.5 seconds\n",
      "Epoch: 053/999 | Loss: 0.0001 |Episodes:143 | Win count: 24 | Win rate: 0.469 | time: 104.2 seconds\n",
      "Epoch: 054/999 | Loss: 0.0011 |Episodes:134 | Win count: 24 | Win rate: 0.438 | time: 107.0 seconds\n",
      "Epoch: 055/999 | Loss: 0.0005 |Episodes:46 | Win count: 25 | Win rate: 0.469 | time: 107.8 seconds\n",
      "Epoch: 056/999 | Loss: 0.0019 |Episodes:140 | Win count: 25 | Win rate: 0.438 | time: 110.8 seconds\n",
      "Epoch: 057/999 | Loss: 0.0023 |Episodes:143 | Win count: 25 | Win rate: 0.406 | time: 113.5 seconds\n",
      "Epoch: 058/999 | Loss: 0.0001 |Episodes:138 | Win count: 25 | Win rate: 0.375 | time: 116.1 seconds\n",
      "Epoch: 059/999 | Loss: 0.0010 |Episodes:37 | Win count: 26 | Win rate: 0.375 | time: 116.8 seconds\n",
      "Epoch: 060/999 | Loss: 0.0001 |Episodes:134 | Win count: 26 | Win rate: 0.344 | time: 119.2 seconds\n",
      "Epoch: 061/999 | Loss: 0.0011 |Episodes:38 | Win count: 27 | Win rate: 0.344 | time: 119.9 seconds\n",
      "Epoch: 062/999 | Loss: 0.0020 |Episodes:80 | Win count: 28 | Win rate: 0.375 | time: 121.4 seconds\n",
      "Epoch: 063/999 | Loss: 0.0010 |Episodes:5 | Win count: 29 | Win rate: 0.406 | time: 121.4 seconds\n",
      "Epoch: 064/999 | Loss: 0.0008 |Episodes:39 | Win count: 30 | Win rate: 0.406 | time: 122.1 seconds\n",
      "Epoch: 065/999 | Loss: 0.0022 |Episodes:81 | Win count: 31 | Win rate: 0.406 | time: 123.5 seconds\n",
      "Epoch: 066/999 | Loss: 0.0007 |Episodes:135 | Win count: 31 | Win rate: 0.406 | time: 125.7 seconds\n",
      "Epoch: 067/999 | Loss: 0.0010 |Episodes:1 | Win count: 32 | Win rate: 0.438 | time: 125.7 seconds\n",
      "Epoch: 068/999 | Loss: 0.0014 |Episodes:146 | Win count: 32 | Win rate: 0.438 | time: 128.8 seconds\n",
      "Epoch: 069/999 | Loss: 0.0017 |Episodes:148 | Win count: 32 | Win rate: 0.406 | time: 131.6 seconds\n",
      "Epoch: 070/999 | Loss: 0.0017 |Episodes:150 | Win count: 32 | Win rate: 0.375 | time: 134.8 seconds\n",
      "Epoch: 071/999 | Loss: 0.0007 |Episodes:5 | Win count: 33 | Win rate: 0.406 | time: 134.9 seconds\n",
      "Epoch: 072/999 | Loss: 0.0025 |Episodes:145 | Win count: 33 | Win rate: 0.406 | time: 137.5 seconds\n",
      "Epoch: 073/999 | Loss: 0.0012 |Episodes:12 | Win count: 34 | Win rate: 0.406 | time: 137.7 seconds\n",
      "Epoch: 074/999 | Loss: 0.0015 |Episodes:77 | Win count: 35 | Win rate: 0.406 | time: 139.1 seconds\n",
      "Epoch: 075/999 | Loss: 0.0014 |Episodes:33 | Win count: 36 | Win rate: 0.406 | time: 139.8 seconds\n",
      "Epoch: 076/999 | Loss: 0.0016 |Episodes:120 | Win count: 37 | Win rate: 0.438 | time: 141.9 seconds\n",
      "Epoch: 077/999 | Loss: 0.0005 |Episodes:133 | Win count: 37 | Win rate: 0.438 | time: 144.3 seconds\n",
      "Epoch: 078/999 | Loss: 0.0033 |Episodes:139 | Win count: 37 | Win rate: 0.438 | time: 146.9 seconds\n",
      "Epoch: 079/999 | Loss: 0.0002 |Episodes:142 | Win count: 37 | Win rate: 0.438 | time: 149.5 seconds\n",
      "Epoch: 080/999 | Loss: 0.0005 |Episodes:52 | Win count: 38 | Win rate: 0.469 | time: 150.2 seconds\n",
      "Epoch: 081/999 | Loss: 0.0020 |Episodes:126 | Win count: 39 | Win rate: 0.500 | time: 152.4 seconds\n",
      "Epoch: 082/999 | Loss: 0.0008 |Episodes:137 | Win count: 39 | Win rate: 0.500 | time: 155.0 seconds\n",
      "Epoch: 083/999 | Loss: 0.0007 |Episodes:140 | Win count: 39 | Win rate: 0.469 | time: 157.4 seconds\n"
     ]
    },
    {
     "name": "stdout",
     "output_type": "stream",
     "text": [
      "Epoch: 084/999 | Loss: 0.0015 |Episodes:137 | Win count: 39 | Win rate: 0.469 | time: 160.0 seconds\n",
      "Epoch: 085/999 | Loss: 0.0001 |Episodes:139 | Win count: 39 | Win rate: 0.469 | time: 162.4 seconds\n",
      "Epoch: 086/999 | Loss: 0.0009 |Episodes:139 | Win count: 39 | Win rate: 0.469 | time: 165.0 seconds\n",
      "Epoch: 087/999 | Loss: 0.0029 |Episodes:45 | Win count: 40 | Win rate: 0.469 | time: 165.7 seconds\n",
      "Epoch: 088/999 | Loss: 0.0008 |Episodes:64 | Win count: 41 | Win rate: 0.500 | time: 166.9 seconds\n",
      "Epoch: 089/999 | Loss: 0.0131 |Episodes:3 | Win count: 42 | Win rate: 0.531 | time: 166.9 seconds\n",
      "Epoch: 090/999 | Loss: 0.0010 |Episodes:3 | Win count: 43 | Win rate: 0.562 | time: 167.0 seconds\n",
      "Epoch: 091/999 | Loss: 0.0004 |Episodes:2 | Win count: 44 | Win rate: 0.562 | time: 167.0 seconds\n",
      "Epoch: 092/999 | Loss: 0.0008 |Episodes:134 | Win count: 44 | Win rate: 0.562 | time: 169.2 seconds\n",
      "Epoch: 093/999 | Loss: 0.0022 |Episodes:131 | Win count: 44 | Win rate: 0.531 | time: 171.4 seconds\n",
      "Epoch: 094/999 | Loss: 0.0008 |Episodes:4 | Win count: 45 | Win rate: 0.531 | time: 171.5 seconds\n",
      "Epoch: 095/999 | Loss: 0.0011 |Episodes:3 | Win count: 46 | Win rate: 0.531 | time: 171.5 seconds\n",
      "Epoch: 096/999 | Loss: 0.0010 |Episodes:15 | Win count: 47 | Win rate: 0.531 | time: 171.8 seconds\n",
      "Epoch: 097/999 | Loss: 0.0004 |Episodes:42 | Win count: 48 | Win rate: 0.531 | time: 172.6 seconds\n",
      "Epoch: 098/999 | Loss: 0.0002 |Episodes:29 | Win count: 49 | Win rate: 0.562 | time: 173.1 seconds\n",
      "Epoch: 099/999 | Loss: 0.0014 |Episodes:9 | Win count: 50 | Win rate: 0.562 | time: 173.3 seconds\n",
      "Epoch: 100/999 | Loss: 0.0008 |Episodes:131 | Win count: 50 | Win rate: 0.562 | time: 175.8 seconds\n",
      "Epoch: 101/999 | Loss: 0.0011 |Episodes:140 | Win count: 50 | Win rate: 0.562 | time: 178.5 seconds\n",
      "Epoch: 102/999 | Loss: 0.0001 |Episodes:133 | Win count: 50 | Win rate: 0.562 | time: 181.1 seconds\n",
      "Epoch: 103/999 | Loss: 0.0002 |Episodes:143 | Win count: 50 | Win rate: 0.531 | time: 183.8 seconds\n",
      "Epoch: 104/999 | Loss: 0.0002 |Episodes:147 | Win count: 50 | Win rate: 0.531 | time: 186.3 seconds\n",
      "Epoch: 105/999 | Loss: 0.0024 |Episodes:96 | Win count: 51 | Win rate: 0.531 | time: 188.0 seconds\n",
      "Epoch: 106/999 | Loss: 0.0009 |Episodes:145 | Win count: 51 | Win rate: 0.500 | time: 190.9 seconds\n",
      "Epoch: 107/999 | Loss: 0.0003 |Episodes:90 | Win count: 52 | Win rate: 0.500 | time: 192.5 seconds\n",
      "Epoch: 108/999 | Loss: 0.0004 |Episodes:146 | Win count: 52 | Win rate: 0.469 | time: 195.0 seconds\n",
      "Epoch: 109/999 | Loss: 0.0024 |Episodes:30 | Win count: 53 | Win rate: 0.500 | time: 195.4 seconds\n",
      "Epoch: 110/999 | Loss: 0.0020 |Episodes:2 | Win count: 54 | Win rate: 0.531 | time: 195.5 seconds\n",
      "Epoch: 111/999 | Loss: 0.0013 |Episodes:69 | Win count: 55 | Win rate: 0.562 | time: 196.6 seconds\n",
      "Epoch: 112/999 | Loss: 0.0014 |Episodes:33 | Win count: 56 | Win rate: 0.562 | time: 197.1 seconds\n",
      "Epoch: 113/999 | Loss: 0.0006 |Episodes:3 | Win count: 57 | Win rate: 0.562 | time: 197.2 seconds\n",
      "Epoch: 114/999 | Loss: 0.0016 |Episodes:112 | Win count: 58 | Win rate: 0.594 | time: 199.2 seconds\n",
      "Epoch: 115/999 | Loss: 0.0019 |Episodes:50 | Win count: 59 | Win rate: 0.625 | time: 200.1 seconds\n",
      "Epoch: 116/999 | Loss: 0.0005 |Episodes:129 | Win count: 59 | Win rate: 0.625 | time: 202.7 seconds\n",
      "Epoch: 117/999 | Loss: 0.0008 |Episodes:129 | Win count: 59 | Win rate: 0.625 | time: 204.7 seconds\n",
      "Epoch: 118/999 | Loss: 0.0014 |Episodes:141 | Win count: 59 | Win rate: 0.625 | time: 207.1 seconds\n",
      "Epoch: 119/999 | Loss: 0.0001 |Episodes:15 | Win count: 60 | Win rate: 0.625 | time: 207.4 seconds\n",
      "Epoch: 120/999 | Loss: 0.0002 |Episodes:1 | Win count: 61 | Win rate: 0.625 | time: 207.4 seconds\n",
      "Epoch: 121/999 | Loss: 0.0013 |Episodes:31 | Win count: 62 | Win rate: 0.625 | time: 207.9 seconds\n",
      "Epoch: 122/999 | Loss: 0.0004 |Episodes:147 | Win count: 62 | Win rate: 0.594 | time: 210.5 seconds\n",
      "Epoch: 123/999 | Loss: 0.0007 |Episodes:139 | Win count: 62 | Win rate: 0.562 | time: 212.9 seconds\n",
      "Epoch: 124/999 | Loss: 0.0004 |Episodes:5 | Win count: 63 | Win rate: 0.594 | time: 213.0 seconds\n",
      "Epoch: 125/999 | Loss: 0.0009 |Episodes:138 | Win count: 63 | Win rate: 0.594 | time: 215.4 seconds\n",
      "Epoch: 126/999 | Loss: 0.0027 |Episodes:13 | Win count: 64 | Win rate: 0.594 | time: 215.7 seconds\n",
      "Epoch: 127/999 | Loss: 0.0016 |Episodes:26 | Win count: 65 | Win rate: 0.594 | time: 216.2 seconds\n",
      "Epoch: 128/999 | Loss: 0.0009 |Episodes:12 | Win count: 66 | Win rate: 0.594 | time: 216.5 seconds\n",
      "Epoch: 129/999 | Loss: 0.0010 |Episodes:74 | Win count: 67 | Win rate: 0.594 | time: 217.7 seconds\n",
      "Epoch: 130/999 | Loss: 0.0012 |Episodes:69 | Win count: 68 | Win rate: 0.594 | time: 218.9 seconds\n",
      "Epoch: 131/999 | Loss: 0.0004 |Episodes:26 | Win count: 69 | Win rate: 0.594 | time: 219.4 seconds\n",
      "Epoch: 132/999 | Loss: 0.0029 |Episodes:20 | Win count: 70 | Win rate: 0.625 | time: 219.7 seconds\n",
      "Epoch: 133/999 | Loss: 0.0020 |Episodes:4 | Win count: 71 | Win rate: 0.656 | time: 219.8 seconds\n",
      "Epoch: 134/999 | Loss: 0.0008 |Episodes:142 | Win count: 71 | Win rate: 0.656 | time: 222.3 seconds\n",
      "Epoch: 135/999 | Loss: 0.0016 |Episodes:41 | Win count: 72 | Win rate: 0.688 | time: 223.0 seconds\n",
      "Epoch: 136/999 | Loss: 0.0007 |Episodes:1 | Win count: 73 | Win rate: 0.719 | time: 223.1 seconds\n",
      "Epoch: 137/999 | Loss: 0.0009 |Episodes:2 | Win count: 74 | Win rate: 0.719 | time: 223.1 seconds\n",
      "Epoch: 138/999 | Loss: 0.0022 |Episodes:9 | Win count: 75 | Win rate: 0.750 | time: 223.2 seconds\n",
      "Epoch: 139/999 | Loss: 0.0022 |Episodes:1 | Win count: 76 | Win rate: 0.750 | time: 223.2 seconds\n",
      "Epoch: 140/999 | Loss: 0.0017 |Episodes:144 | Win count: 76 | Win rate: 0.750 | time: 225.9 seconds\n",
      "Epoch: 141/999 | Loss: 0.0022 |Episodes:39 | Win count: 77 | Win rate: 0.750 | time: 226.6 seconds\n",
      "Epoch: 142/999 | Loss: 0.0004 |Episodes:135 | Win count: 77 | Win rate: 0.719 | time: 229.0 seconds\n",
      "Epoch: 143/999 | Loss: 0.0010 |Episodes:138 | Win count: 77 | Win rate: 0.688 | time: 231.4 seconds\n",
      "Epoch: 144/999 | Loss: 0.0005 |Episodes:5 | Win count: 78 | Win rate: 0.688 | time: 231.5 seconds\n",
      "Epoch: 145/999 | Loss: 0.0012 |Episodes:7 | Win count: 79 | Win rate: 0.688 | time: 231.6 seconds\n",
      "Epoch: 146/999 | Loss: 0.0015 |Episodes:134 | Win count: 79 | Win rate: 0.656 | time: 234.4 seconds\n",
      "Epoch: 147/999 | Loss: 0.0005 |Episodes:28 | Win count: 80 | Win rate: 0.656 | time: 235.0 seconds\n",
      "Epoch: 148/999 | Loss: 0.0015 |Episodes:139 | Win count: 80 | Win rate: 0.656 | time: 237.5 seconds\n",
      "Epoch: 149/999 | Loss: 0.0001 |Episodes:139 | Win count: 80 | Win rate: 0.656 | time: 239.8 seconds\n",
      "Epoch: 150/999 | Loss: 0.0011 |Episodes:47 | Win count: 81 | Win rate: 0.688 | time: 240.6 seconds\n",
      "Epoch: 151/999 | Loss: 0.0020 |Episodes:25 | Win count: 82 | Win rate: 0.688 | time: 241.0 seconds\n",
      "Epoch: 152/999 | Loss: 0.0005 |Episodes:18 | Win count: 83 | Win rate: 0.688 | time: 241.4 seconds\n",
      "Epoch: 153/999 | Loss: 0.0007 |Episodes:10 | Win count: 84 | Win rate: 0.688 | time: 241.5 seconds\n",
      "Epoch: 154/999 | Loss: 0.0006 |Episodes:146 | Win count: 84 | Win rate: 0.688 | time: 244.3 seconds\n",
      "Epoch: 155/999 | Loss: 0.0033 |Episodes:96 | Win count: 85 | Win rate: 0.719 | time: 245.9 seconds\n",
      "Epoch: 156/999 | Loss: 0.0010 |Episodes:11 | Win count: 86 | Win rate: 0.719 | time: 246.2 seconds\n",
      "Epoch: 157/999 | Loss: 0.0011 |Episodes:138 | Win count: 86 | Win rate: 0.719 | time: 248.8 seconds\n",
      "Epoch: 158/999 | Loss: 0.0020 |Episodes:1 | Win count: 87 | Win rate: 0.719 | time: 248.8 seconds\n",
      "Epoch: 159/999 | Loss: 0.0041 |Episodes:66 | Win count: 88 | Win rate: 0.719 | time: 250.1 seconds\n",
      "Epoch: 160/999 | Loss: 0.0023 |Episodes:8 | Win count: 89 | Win rate: 0.719 | time: 250.3 seconds\n",
      "Epoch: 161/999 | Loss: 0.0028 |Episodes:21 | Win count: 90 | Win rate: 0.719 | time: 250.6 seconds\n",
      "Epoch: 162/999 | Loss: 0.0008 |Episodes:9 | Win count: 91 | Win rate: 0.719 | time: 250.8 seconds\n",
      "Epoch: 163/999 | Loss: 0.0008 |Episodes:17 | Win count: 92 | Win rate: 0.719 | time: 251.1 seconds\n",
      "Epoch: 164/999 | Loss: 0.0017 |Episodes:19 | Win count: 93 | Win rate: 0.719 | time: 251.5 seconds\n",
      "Epoch: 165/999 | Loss: 0.0022 |Episodes:53 | Win count: 94 | Win rate: 0.719 | time: 252.5 seconds\n",
      "Epoch: 166/999 | Loss: 0.0022 |Episodes:83 | Win count: 95 | Win rate: 0.750 | time: 254.1 seconds\n"
     ]
    },
    {
     "name": "stdout",
     "output_type": "stream",
     "text": [
      "Epoch: 167/999 | Loss: 0.0018 |Episodes:89 | Win count: 96 | Win rate: 0.750 | time: 255.9 seconds\n",
      "Epoch: 168/999 | Loss: 0.0017 |Episodes:144 | Win count: 96 | Win rate: 0.719 | time: 258.6 seconds\n",
      "Epoch: 169/999 | Loss: 0.0014 |Episodes:9 | Win count: 97 | Win rate: 0.719 | time: 258.8 seconds\n",
      "Epoch: 170/999 | Loss: 0.0015 |Episodes:15 | Win count: 98 | Win rate: 0.719 | time: 259.2 seconds\n",
      "Epoch: 171/999 | Loss: 0.0002 |Episodes:136 | Win count: 98 | Win rate: 0.688 | time: 261.8 seconds\n",
      "Epoch: 172/999 | Loss: 0.0007 |Episodes:138 | Win count: 98 | Win rate: 0.688 | time: 264.6 seconds\n",
      "Epoch: 173/999 | Loss: 0.0008 |Episodes:1 | Win count: 99 | Win rate: 0.688 | time: 264.6 seconds\n",
      "Epoch: 174/999 | Loss: 0.0009 |Episodes:85 | Win count: 100 | Win rate: 0.719 | time: 266.2 seconds\n",
      "Epoch: 175/999 | Loss: 0.0012 |Episodes:7 | Win count: 101 | Win rate: 0.750 | time: 266.3 seconds\n",
      "Epoch: 176/999 | Loss: 0.0006 |Episodes:141 | Win count: 101 | Win rate: 0.719 | time: 268.9 seconds\n",
      "Epoch: 177/999 | Loss: 0.0014 |Episodes:19 | Win count: 102 | Win rate: 0.719 | time: 269.3 seconds\n",
      "Epoch: 178/999 | Loss: 0.0010 |Episodes:30 | Win count: 103 | Win rate: 0.750 | time: 269.8 seconds\n",
      "Epoch: 179/999 | Loss: 0.0013 |Episodes:25 | Win count: 104 | Win rate: 0.750 | time: 270.4 seconds\n",
      "Epoch: 180/999 | Loss: 0.0014 |Episodes:40 | Win count: 105 | Win rate: 0.781 | time: 271.2 seconds\n",
      "Epoch: 181/999 | Loss: 0.0025 |Episodes:138 | Win count: 105 | Win rate: 0.781 | time: 273.5 seconds\n",
      "Epoch: 182/999 | Loss: 0.0017 |Episodes:14 | Win count: 106 | Win rate: 0.781 | time: 273.7 seconds\n",
      "Epoch: 183/999 | Loss: 0.0005 |Episodes:31 | Win count: 107 | Win rate: 0.781 | time: 274.2 seconds\n",
      "Epoch: 184/999 | Loss: 0.0016 |Episodes:136 | Win count: 107 | Win rate: 0.750 | time: 277.0 seconds\n",
      "Epoch: 185/999 | Loss: 0.0006 |Episodes:141 | Win count: 107 | Win rate: 0.719 | time: 279.7 seconds\n",
      "Epoch: 186/999 | Loss: 0.0005 |Episodes:139 | Win count: 107 | Win rate: 0.719 | time: 282.6 seconds\n",
      "Epoch: 187/999 | Loss: 0.0018 |Episodes:139 | Win count: 107 | Win rate: 0.688 | time: 285.1 seconds\n",
      "Epoch: 188/999 | Loss: 0.0004 |Episodes:131 | Win count: 107 | Win rate: 0.656 | time: 287.8 seconds\n",
      "Epoch: 189/999 | Loss: 0.0001 |Episodes:137 | Win count: 107 | Win rate: 0.656 | time: 290.5 seconds\n",
      "Epoch: 190/999 | Loss: 0.0001 |Episodes:48 | Win count: 108 | Win rate: 0.656 | time: 291.4 seconds\n",
      "Epoch: 191/999 | Loss: 0.0010 |Episodes:43 | Win count: 109 | Win rate: 0.656 | time: 292.2 seconds\n",
      "Epoch: 192/999 | Loss: 0.0010 |Episodes:132 | Win count: 109 | Win rate: 0.625 | time: 294.7 seconds\n",
      "Epoch: 193/999 | Loss: 0.0018 |Episodes:135 | Win count: 109 | Win rate: 0.594 | time: 297.1 seconds\n",
      "Epoch: 194/999 | Loss: 0.0012 |Episodes:9 | Win count: 110 | Win rate: 0.594 | time: 297.2 seconds\n",
      "Epoch: 195/999 | Loss: 0.0009 |Episodes:7 | Win count: 111 | Win rate: 0.594 | time: 297.3 seconds\n",
      "Epoch: 196/999 | Loss: 0.0002 |Episodes:15 | Win count: 112 | Win rate: 0.594 | time: 297.6 seconds\n",
      "Epoch: 197/999 | Loss: 0.0008 |Episodes:25 | Win count: 113 | Win rate: 0.594 | time: 298.1 seconds\n",
      "Epoch: 198/999 | Loss: 0.0052 |Episodes:72 | Win count: 114 | Win rate: 0.594 | time: 299.3 seconds\n",
      "Epoch: 199/999 | Loss: 0.0002 |Episodes:135 | Win count: 114 | Win rate: 0.562 | time: 301.9 seconds\n",
      "Epoch: 200/999 | Loss: 0.0005 |Episodes:134 | Win count: 114 | Win rate: 0.562 | time: 304.4 seconds\n",
      "Epoch: 201/999 | Loss: 0.0006 |Episodes:139 | Win count: 114 | Win rate: 0.531 | time: 307.1 seconds\n",
      "Epoch: 202/999 | Loss: 0.0009 |Episodes:134 | Win count: 114 | Win rate: 0.500 | time: 309.5 seconds\n",
      "Epoch: 203/999 | Loss: 0.0001 |Episodes:133 | Win count: 114 | Win rate: 0.500 | time: 312.1 seconds\n",
      "Epoch: 204/999 | Loss: 0.0004 |Episodes:136 | Win count: 114 | Win rate: 0.500 | time: 314.7 seconds\n",
      "Epoch: 205/999 | Loss: 0.0001 |Episodes:38 | Win count: 115 | Win rate: 0.500 | time: 315.6 seconds\n",
      "Epoch: 206/999 | Loss: 0.0003 |Episodes:133 | Win count: 115 | Win rate: 0.469 | time: 317.9 seconds\n",
      "Epoch: 207/999 | Loss: 0.0017 |Episodes:142 | Win count: 115 | Win rate: 0.438 | time: 320.4 seconds\n",
      "Epoch: 208/999 | Loss: 0.0022 |Episodes:13 | Win count: 116 | Win rate: 0.469 | time: 320.6 seconds\n",
      "Epoch: 209/999 | Loss: 0.0015 |Episodes:9 | Win count: 117 | Win rate: 0.469 | time: 320.8 seconds\n",
      "Epoch: 210/999 | Loss: 0.0020 |Episodes:19 | Win count: 118 | Win rate: 0.469 | time: 321.1 seconds\n",
      "Epoch: 211/999 | Loss: 0.0008 |Episodes:48 | Win count: 119 | Win rate: 0.469 | time: 322.0 seconds\n",
      "Epoch: 212/999 | Loss: 0.0013 |Episodes:37 | Win count: 120 | Win rate: 0.469 | time: 322.8 seconds\n",
      "Epoch: 213/999 | Loss: 0.0005 |Episodes:144 | Win count: 120 | Win rate: 0.469 | time: 325.5 seconds\n",
      "Epoch: 214/999 | Loss: 0.0019 |Episodes:53 | Win count: 121 | Win rate: 0.469 | time: 326.5 seconds\n",
      "Epoch: 215/999 | Loss: 0.0014 |Episodes:139 | Win count: 122 | Win rate: 0.469 | time: 328.9 seconds\n",
      "Epoch: 216/999 | Loss: 0.0012 |Episodes:141 | Win count: 122 | Win rate: 0.469 | time: 331.5 seconds\n",
      "Epoch: 217/999 | Loss: 0.0035 |Episodes:11 | Win count: 123 | Win rate: 0.500 | time: 331.7 seconds\n",
      "Epoch: 218/999 | Loss: 0.0009 |Episodes:11 | Win count: 124 | Win rate: 0.531 | time: 331.9 seconds\n",
      "Epoch: 219/999 | Loss: 0.0040 |Episodes:14 | Win count: 125 | Win rate: 0.562 | time: 332.2 seconds\n",
      "Epoch: 220/999 | Loss: 0.0009 |Episodes:46 | Win count: 126 | Win rate: 0.594 | time: 333.0 seconds\n",
      "Epoch: 221/999 | Loss: 0.0020 |Episodes:7 | Win count: 127 | Win rate: 0.625 | time: 333.1 seconds\n",
      "Epoch: 222/999 | Loss: 0.0011 |Episodes:20 | Win count: 128 | Win rate: 0.625 | time: 333.4 seconds\n",
      "Epoch: 223/999 | Loss: 0.0016 |Episodes:33 | Win count: 129 | Win rate: 0.625 | time: 333.9 seconds\n",
      "Epoch: 224/999 | Loss: 0.0015 |Episodes:11 | Win count: 130 | Win rate: 0.656 | time: 334.1 seconds\n",
      "Epoch: 225/999 | Loss: 0.0006 |Episodes:144 | Win count: 130 | Win rate: 0.656 | time: 336.8 seconds\n",
      "Epoch: 226/999 | Loss: 0.0011 |Episodes:9 | Win count: 131 | Win rate: 0.656 | time: 336.9 seconds\n",
      "Epoch: 227/999 | Loss: 0.0004 |Episodes:24 | Win count: 132 | Win rate: 0.656 | time: 337.4 seconds\n",
      "Epoch: 228/999 | Loss: 0.0008 |Episodes:64 | Win count: 133 | Win rate: 0.656 | time: 338.6 seconds\n",
      "Epoch: 229/999 | Loss: 0.0010 |Episodes:3 | Win count: 134 | Win rate: 0.656 | time: 338.6 seconds\n",
      "Epoch: 230/999 | Loss: 0.0008 |Episodes:15 | Win count: 135 | Win rate: 0.656 | time: 338.9 seconds\n",
      "Epoch: 231/999 | Loss: 0.0015 |Episodes:7 | Win count: 136 | Win rate: 0.688 | time: 339.0 seconds\n",
      "Epoch: 232/999 | Loss: 0.0007 |Episodes:8 | Win count: 137 | Win rate: 0.719 | time: 339.2 seconds\n",
      "Epoch: 233/999 | Loss: 0.0007 |Episodes:17 | Win count: 138 | Win rate: 0.750 | time: 339.4 seconds\n",
      "Epoch: 234/999 | Loss: 0.0016 |Episodes:14 | Win count: 139 | Win rate: 0.781 | time: 339.7 seconds\n",
      "Epoch: 235/999 | Loss: 0.0011 |Episodes:2 | Win count: 140 | Win rate: 0.812 | time: 339.7 seconds\n",
      "Epoch: 236/999 | Loss: 0.0014 |Episodes:3 | Win count: 141 | Win rate: 0.844 | time: 339.8 seconds\n",
      "Epoch: 237/999 | Loss: 0.0018 |Episodes:129 | Win count: 141 | Win rate: 0.812 | time: 342.1 seconds\n",
      "Epoch: 238/999 | Loss: 0.0008 |Episodes:134 | Win count: 141 | Win rate: 0.812 | time: 344.2 seconds\n",
      "Epoch: 239/999 | Loss: 0.0000 |Episodes:9 | Win count: 142 | Win rate: 0.844 | time: 344.4 seconds\n",
      "Epoch: 240/999 | Loss: 0.0006 |Episodes:139 | Win count: 142 | Win rate: 0.812 | time: 346.9 seconds\n",
      "Epoch: 241/999 | Loss: 0.0000 |Episodes:23 | Win count: 143 | Win rate: 0.812 | time: 347.2 seconds\n",
      "Epoch: 242/999 | Loss: 0.0013 |Episodes:1 | Win count: 144 | Win rate: 0.812 | time: 347.3 seconds\n",
      "Epoch: 243/999 | Loss: 0.0001 |Episodes:7 | Win count: 145 | Win rate: 0.812 | time: 347.4 seconds\n",
      "Epoch: 244/999 | Loss: 0.0018 |Episodes:117 | Win count: 146 | Win rate: 0.812 | time: 349.6 seconds\n",
      "Epoch: 245/999 | Loss: 0.0002 |Episodes:2 | Win count: 147 | Win rate: 0.844 | time: 349.6 seconds\n",
      "Epoch: 246/999 | Loss: 0.0003 |Episodes:38 | Win count: 148 | Win rate: 0.844 | time: 350.2 seconds\n",
      "Epoch: 247/999 | Loss: 0.0007 |Episodes:19 | Win count: 149 | Win rate: 0.844 | time: 350.5 seconds\n",
      "Epoch: 248/999 | Loss: 0.0016 |Episodes:7 | Win count: 150 | Win rate: 0.875 | time: 350.6 seconds\n"
     ]
    },
    {
     "name": "stdout",
     "output_type": "stream",
     "text": [
      "Epoch: 249/999 | Loss: 0.0009 |Episodes:8 | Win count: 151 | Win rate: 0.875 | time: 350.8 seconds\n",
      "Epoch: 250/999 | Loss: 0.0005 |Episodes:51 | Win count: 152 | Win rate: 0.875 | time: 351.7 seconds\n",
      "Epoch: 251/999 | Loss: 0.0013 |Episodes:9 | Win count: 153 | Win rate: 0.875 | time: 351.9 seconds\n",
      "Epoch: 252/999 | Loss: 0.0004 |Episodes:15 | Win count: 154 | Win rate: 0.875 | time: 352.2 seconds\n",
      "Epoch: 253/999 | Loss: 0.0014 |Episodes:16 | Win count: 155 | Win rate: 0.875 | time: 352.5 seconds\n",
      "Epoch: 254/999 | Loss: 0.0017 |Episodes:44 | Win count: 156 | Win rate: 0.875 | time: 353.5 seconds\n",
      "Epoch: 255/999 | Loss: 0.0016 |Episodes:26 | Win count: 157 | Win rate: 0.875 | time: 354.0 seconds\n",
      "Epoch: 256/999 | Loss: 0.0009 |Episodes:17 | Win count: 158 | Win rate: 0.875 | time: 354.4 seconds\n",
      "Epoch: 257/999 | Loss: 0.0011 |Episodes:75 | Win count: 159 | Win rate: 0.906 | time: 355.8 seconds\n",
      "Epoch: 258/999 | Loss: 0.0012 |Episodes:7 | Win count: 160 | Win rate: 0.906 | time: 355.9 seconds\n",
      "Epoch: 259/999 | Loss: 0.0013 |Episodes:9 | Win count: 161 | Win rate: 0.906 | time: 356.1 seconds\n",
      "Epoch: 260/999 | Loss: 0.0019 |Episodes:8 | Win count: 162 | Win rate: 0.906 | time: 356.3 seconds\n",
      "Epoch: 261/999 | Loss: 0.0013 |Episodes:68 | Win count: 163 | Win rate: 0.906 | time: 357.4 seconds\n",
      "Epoch: 262/999 | Loss: 0.0014 |Episodes:26 | Win count: 164 | Win rate: 0.906 | time: 357.9 seconds\n",
      "Epoch: 263/999 | Loss: 0.0017 |Episodes:48 | Win count: 165 | Win rate: 0.906 | time: 358.9 seconds\n",
      "Epoch: 264/999 | Loss: 0.0014 |Episodes:44 | Win count: 166 | Win rate: 0.906 | time: 359.5 seconds\n",
      "Epoch: 265/999 | Loss: 0.0016 |Episodes:78 | Win count: 167 | Win rate: 0.906 | time: 360.8 seconds\n",
      "Epoch: 266/999 | Loss: 0.0018 |Episodes:62 | Win count: 168 | Win rate: 0.906 | time: 361.9 seconds\n",
      "Epoch: 267/999 | Loss: 0.0006 |Episodes:7 | Win count: 169 | Win rate: 0.906 | time: 362.0 seconds\n",
      "Epoch: 268/999 | Loss: 0.0018 |Episodes:6 | Win count: 170 | Win rate: 0.906 | time: 362.1 seconds\n",
      "Epoch: 269/999 | Loss: 0.0018 |Episodes:13 | Win count: 171 | Win rate: 0.938 | time: 362.3 seconds\n",
      "Epoch: 270/999 | Loss: 0.0011 |Episodes:114 | Win count: 172 | Win rate: 0.969 | time: 364.3 seconds\n",
      "Epoch: 271/999 | Loss: 0.0003 |Episodes:41 | Win count: 173 | Win rate: 0.969 | time: 365.1 seconds\n",
      "Epoch: 272/999 | Loss: 0.0013 |Episodes:16 | Win count: 174 | Win rate: 1.000 | time: 365.4 seconds\n",
      "Epoch: 273/999 | Loss: 0.0016 |Episodes:31 | Win count: 175 | Win rate: 1.000 | time: 366.0 seconds\n",
      "Epoch: 274/999 | Loss: 0.0026 |Episodes:2 | Win count: 176 | Win rate: 1.000 | time: 366.1 seconds\n",
      "Epoch: 275/999 | Loss: 0.0012 |Episodes:3 | Win count: 177 | Win rate: 1.000 | time: 366.3 seconds\n",
      "Epoch: 276/999 | Loss: 0.0016 |Episodes:18 | Win count: 178 | Win rate: 1.000 | time: 366.7 seconds\n",
      "Epoch: 277/999 | Loss: 0.0017 |Episodes:44 | Win count: 179 | Win rate: 1.000 | time: 367.5 seconds\n",
      "Epoch: 278/999 | Loss: 0.0007 |Episodes:2 | Win count: 180 | Win rate: 1.000 | time: 367.6 seconds\n",
      "Epoch: 279/999 | Loss: 0.0023 |Episodes:56 | Win count: 181 | Win rate: 1.000 | time: 368.6 seconds\n",
      "Epoch: 280/999 | Loss: 0.0019 |Episodes:1 | Win count: 182 | Win rate: 1.000 | time: 368.8 seconds\n",
      "Epoch: 281/999 | Loss: 0.0024 |Episodes:24 | Win count: 183 | Win rate: 1.000 | time: 369.3 seconds\n",
      "Epoch: 282/999 | Loss: 0.0008 |Episodes:5 | Win count: 184 | Win rate: 1.000 | time: 369.5 seconds\n",
      "Epoch: 283/999 | Loss: 0.0010 |Episodes:2 | Win count: 185 | Win rate: 1.000 | time: 369.7 seconds\n",
      "Epoch: 284/999 | Loss: 0.0014 |Episodes:11 | Win count: 186 | Win rate: 1.000 | time: 369.9 seconds\n",
      "Epoch: 285/999 | Loss: 0.0014 |Episodes:20 | Win count: 187 | Win rate: 1.000 | time: 370.4 seconds\n",
      "Epoch: 286/999 | Loss: 0.0007 |Episodes:14 | Win count: 188 | Win rate: 1.000 | time: 370.9 seconds\n",
      "Epoch: 287/999 | Loss: 0.0013 |Episodes:86 | Win count: 189 | Win rate: 1.000 | time: 372.8 seconds\n",
      "Epoch: 288/999 | Loss: 0.0007 |Episodes:12 | Win count: 190 | Win rate: 1.000 | time: 373.2 seconds\n",
      "Epoch: 289/999 | Loss: 0.0013 |Episodes:7 | Win count: 191 | Win rate: 1.000 | time: 373.4 seconds\n",
      "Epoch: 290/999 | Loss: 0.0012 |Episodes:60 | Win count: 192 | Win rate: 1.000 | time: 374.9 seconds\n",
      "Epoch: 291/999 | Loss: 0.0012 |Episodes:47 | Win count: 193 | Win rate: 1.000 | time: 375.9 seconds\n",
      "Epoch: 292/999 | Loss: 0.0005 |Episodes:2 | Win count: 194 | Win rate: 1.000 | time: 376.1 seconds\n",
      "Epoch: 293/999 | Loss: 0.0012 |Episodes:26 | Win count: 195 | Win rate: 1.000 | time: 376.6 seconds\n",
      "Epoch: 294/999 | Loss: 0.0015 |Episodes:35 | Win count: 196 | Win rate: 1.000 | time: 377.3 seconds\n",
      "Epoch: 295/999 | Loss: 0.0010 |Episodes:21 | Win count: 197 | Win rate: 1.000 | time: 377.8 seconds\n",
      "Epoch: 296/999 | Loss: 0.0006 |Episodes:137 | Win count: 198 | Win rate: 1.000 | time: 380.5 seconds\n",
      "Epoch: 297/999 | Loss: 0.0007 |Episodes:26 | Win count: 199 | Win rate: 1.000 | time: 381.0 seconds\n",
      "Epoch: 298/999 | Loss: 0.0021 |Episodes:24 | Win count: 200 | Win rate: 1.000 | time: 381.5 seconds\n",
      "Epoch: 299/999 | Loss: 0.0018 |Episodes:9 | Win count: 201 | Win rate: 1.000 | time: 381.8 seconds\n",
      "Epoch: 300/999 | Loss: 0.0005 |Episodes:8 | Win count: 202 | Win rate: 1.000 | time: 382.0 seconds\n",
      "Epoch: 301/999 | Loss: 0.0007 |Episodes:21 | Win count: 203 | Win rate: 1.000 | time: 382.5 seconds\n",
      "Epoch: 302/999 | Loss: 0.0010 |Episodes:4 | Win count: 204 | Win rate: 1.000 | time: 382.7 seconds\n",
      "Epoch: 303/999 | Loss: 0.0005 |Episodes:29 | Win count: 205 | Win rate: 1.000 | time: 383.3 seconds\n",
      "Epoch: 304/999 | Loss: 0.0011 |Episodes:18 | Win count: 206 | Win rate: 1.000 | time: 383.8 seconds\n",
      "Epoch: 305/999 | Loss: 0.0018 |Episodes:15 | Win count: 207 | Win rate: 1.000 | time: 384.2 seconds\n",
      "Epoch: 306/999 | Loss: 0.0009 |Episodes:129 | Win count: 207 | Win rate: 0.969 | time: 386.8 seconds\n",
      "Epoch: 307/999 | Loss: 0.0003 |Episodes:16 | Win count: 208 | Win rate: 0.969 | time: 387.1 seconds\n",
      "Epoch: 308/999 | Loss: 0.0006 |Episodes:11 | Win count: 209 | Win rate: 0.969 | time: 387.3 seconds\n",
      "Epoch: 309/999 | Loss: 0.0004 |Episodes:26 | Win count: 210 | Win rate: 0.969 | time: 387.8 seconds\n",
      "Epoch: 310/999 | Loss: 0.0002 |Episodes:24 | Win count: 211 | Win rate: 0.969 | time: 388.2 seconds\n",
      "Epoch: 311/999 | Loss: 0.0000 |Episodes:20 | Win count: 212 | Win rate: 0.969 | time: 388.5 seconds\n",
      "Epoch: 312/999 | Loss: 0.0006 |Episodes:17 | Win count: 213 | Win rate: 0.969 | time: 388.9 seconds\n",
      "Epoch: 313/999 | Loss: 0.0004 |Episodes:129 | Win count: 213 | Win rate: 0.938 | time: 391.1 seconds\n",
      "Epoch: 314/999 | Loss: 0.0000 |Episodes:14 | Win count: 214 | Win rate: 0.938 | time: 391.4 seconds\n",
      "Epoch: 315/999 | Loss: 0.0000 |Episodes:19 | Win count: 215 | Win rate: 0.938 | time: 391.7 seconds\n",
      "Epoch: 316/999 | Loss: 0.0001 |Episodes:21 | Win count: 216 | Win rate: 0.938 | time: 392.0 seconds\n",
      "Epoch: 317/999 | Loss: 0.0000 |Episodes:23 | Win count: 217 | Win rate: 0.938 | time: 392.4 seconds\n",
      "Epoch: 318/999 | Loss: 0.0001 |Episodes:18 | Win count: 218 | Win rate: 0.938 | time: 392.7 seconds\n",
      "Epoch: 319/999 | Loss: 0.0000 |Episodes:24 | Win count: 219 | Win rate: 0.938 | time: 393.1 seconds\n",
      "Epoch: 320/999 | Loss: 0.0000 |Episodes:8 | Win count: 220 | Win rate: 0.938 | time: 393.3 seconds\n",
      "Epoch: 321/999 | Loss: 0.0000 |Episodes:18 | Win count: 221 | Win rate: 0.938 | time: 393.6 seconds\n",
      "Epoch: 322/999 | Loss: 0.0010 |Episodes:6 | Win count: 222 | Win rate: 0.938 | time: 393.7 seconds\n",
      "Epoch: 323/999 | Loss: 0.0000 |Episodes:1 | Win count: 223 | Win rate: 0.938 | time: 393.7 seconds\n",
      "Epoch: 324/999 | Loss: 0.0000 |Episodes:18 | Win count: 224 | Win rate: 0.938 | time: 394.1 seconds\n",
      "Epoch: 325/999 | Loss: 0.0001 |Episodes:10 | Win count: 225 | Win rate: 0.938 | time: 394.2 seconds\n",
      "Epoch: 326/999 | Loss: 0.0000 |Episodes:22 | Win count: 226 | Win rate: 0.938 | time: 394.6 seconds\n",
      "Epoch: 327/999 | Loss: 0.0000 |Episodes:25 | Win count: 227 | Win rate: 0.938 | time: 395.1 seconds\n",
      "Epoch: 328/999 | Loss: 0.0000 |Episodes:26 | Win count: 228 | Win rate: 0.938 | time: 395.5 seconds\n",
      "Epoch: 329/999 | Loss: 0.0000 |Episodes:21 | Win count: 229 | Win rate: 0.938 | time: 395.9 seconds\n",
      "Epoch: 330/999 | Loss: 0.0000 |Episodes:15 | Win count: 230 | Win rate: 0.938 | time: 396.2 seconds\n",
      "Epoch: 331/999 | Loss: 0.0001 |Episodes:15 | Win count: 231 | Win rate: 0.938 | time: 396.4 seconds\n"
     ]
    },
    {
     "name": "stdout",
     "output_type": "stream",
     "text": [
      "Epoch: 332/999 | Loss: 0.0004 |Episodes:25 | Win count: 232 | Win rate: 0.938 | time: 396.9 seconds\n",
      "Epoch: 333/999 | Loss: 0.0001 |Episodes:15 | Win count: 233 | Win rate: 0.938 | time: 397.2 seconds\n",
      "Epoch: 334/999 | Loss: 0.0002 |Episodes:5 | Win count: 234 | Win rate: 0.938 | time: 397.2 seconds\n",
      "Epoch: 335/999 | Loss: 0.0003 |Episodes:73 | Win count: 235 | Win rate: 0.938 | time: 398.6 seconds\n",
      "Epoch: 336/999 | Loss: 0.0003 |Episodes:23 | Win count: 236 | Win rate: 0.938 | time: 399.1 seconds\n",
      "Epoch: 337/999 | Loss: 0.0010 |Episodes:38 | Win count: 237 | Win rate: 0.938 | time: 399.8 seconds\n",
      "Epoch: 338/999 | Loss: 0.0008 |Episodes:10 | Win count: 238 | Win rate: 0.969 | time: 400.0 seconds\n",
      "Epoch: 339/999 | Loss: 0.0004 |Episodes:23 | Win count: 239 | Win rate: 0.969 | time: 6.67 minutes\n",
      "Epoch: 340/999 | Loss: 0.0003 |Episodes:39 | Win count: 240 | Win rate: 0.969 | time: 6.69 minutes\n",
      "Epoch: 341/999 | Loss: 0.0003 |Episodes:15 | Win count: 241 | Win rate: 0.969 | time: 6.69 minutes\n",
      "Epoch: 342/999 | Loss: 0.0001 |Episodes:1 | Win count: 242 | Win rate: 0.969 | time: 6.69 minutes\n",
      "Epoch: 343/999 | Loss: 0.0010 |Episodes:12 | Win count: 243 | Win rate: 0.969 | time: 6.70 minutes\n",
      "Epoch: 344/999 | Loss: 0.0005 |Episodes:19 | Win count: 244 | Win rate: 0.969 | time: 6.70 minutes\n",
      "Epoch: 345/999 | Loss: 0.0002 |Episodes:131 | Win count: 245 | Win rate: 1.000 | time: 6.74 minutes\n",
      "Epoch: 346/999 | Loss: 0.0003 |Episodes:8 | Win count: 246 | Win rate: 1.000 | time: 6.75 minutes\n",
      "Epoch: 347/999 | Loss: 0.0009 |Episodes:36 | Win count: 247 | Win rate: 1.000 | time: 6.76 minutes\n",
      "Epoch: 348/999 | Loss: 0.0012 |Episodes:9 | Win count: 248 | Win rate: 1.000 | time: 6.76 minutes\n",
      "Epoch: 349/999 | Loss: 0.0003 |Episodes:10 | Win count: 249 | Win rate: 1.000 | time: 6.77 minutes\n",
      "Epoch: 350/999 | Loss: 0.0013 |Episodes:4 | Win count: 250 | Win rate: 1.000 | time: 6.77 minutes\n",
      "Epoch: 351/999 | Loss: 0.0003 |Episodes:136 | Win count: 251 | Win rate: 1.000 | time: 6.81 minutes\n",
      "Epoch: 352/999 | Loss: 0.0006 |Episodes:15 | Win count: 252 | Win rate: 1.000 | time: 6.82 minutes\n",
      "Epoch: 353/999 | Loss: 0.0015 |Episodes:26 | Win count: 253 | Win rate: 1.000 | time: 6.83 minutes\n",
      "Epoch: 354/999 | Loss: 0.0005 |Episodes:19 | Win count: 254 | Win rate: 1.000 | time: 6.83 minutes\n",
      "Epoch: 355/999 | Loss: 0.0003 |Episodes:9 | Win count: 255 | Win rate: 1.000 | time: 6.84 minutes\n",
      "Epoch: 356/999 | Loss: 0.0005 |Episodes:9 | Win count: 256 | Win rate: 1.000 | time: 6.84 minutes\n",
      "Epoch: 357/999 | Loss: 0.0005 |Episodes:104 | Win count: 257 | Win rate: 1.000 | time: 6.88 minutes\n",
      "Epoch: 358/999 | Loss: 0.0009 |Episodes:8 | Win count: 258 | Win rate: 1.000 | time: 6.88 minutes\n",
      "Epoch: 359/999 | Loss: 0.0008 |Episodes:16 | Win count: 259 | Win rate: 1.000 | time: 6.89 minutes\n",
      "Epoch: 360/999 | Loss: 0.0002 |Episodes:25 | Win count: 260 | Win rate: 1.000 | time: 6.90 minutes\n",
      "Epoch: 361/999 | Loss: 0.0011 |Episodes:44 | Win count: 261 | Win rate: 1.000 | time: 6.92 minutes\n",
      "Epoch: 362/999 | Loss: 0.0004 |Episodes:37 | Win count: 262 | Win rate: 1.000 | time: 6.93 minutes\n",
      "Epoch: 363/999 | Loss: 0.0011 |Episodes:7 | Win count: 263 | Win rate: 1.000 | time: 6.94 minutes\n",
      "Epoch: 364/999 | Loss: 0.0004 |Episodes:1 | Win count: 264 | Win rate: 1.000 | time: 6.94 minutes\n",
      "Epoch: 365/999 | Loss: 0.0007 |Episodes:16 | Win count: 265 | Win rate: 1.000 | time: 6.95 minutes\n",
      "Epoch: 366/999 | Loss: 0.0008 |Episodes:18 | Win count: 266 | Win rate: 1.000 | time: 6.95 minutes\n",
      "Epoch: 367/999 | Loss: 0.0005 |Episodes:6 | Win count: 267 | Win rate: 1.000 | time: 6.96 minutes\n",
      "Epoch: 368/999 | Loss: 0.0006 |Episodes:8 | Win count: 268 | Win rate: 1.000 | time: 6.96 minutes\n",
      "Epoch: 369/999 | Loss: 0.0003 |Episodes:2 | Win count: 269 | Win rate: 1.000 | time: 6.96 minutes\n",
      "Epoch: 370/999 | Loss: 0.0011 |Episodes:12 | Win count: 270 | Win rate: 1.000 | time: 6.97 minutes\n",
      "Epoch: 371/999 | Loss: 0.0009 |Episodes:37 | Win count: 271 | Win rate: 1.000 | time: 6.98 minutes\n",
      "Epoch: 372/999 | Loss: 0.0014 |Episodes:48 | Win count: 272 | Win rate: 1.000 | time: 7.00 minutes\n",
      "Epoch: 373/999 | Loss: 0.0002 |Episodes:7 | Win count: 273 | Win rate: 1.000 | time: 7.00 minutes\n",
      "Epoch: 374/999 | Loss: 0.0007 |Episodes:15 | Win count: 274 | Win rate: 1.000 | time: 7.01 minutes\n",
      "Epoch: 375/999 | Loss: 0.0007 |Episodes:19 | Win count: 275 | Win rate: 1.000 | time: 7.02 minutes\n",
      "Epoch: 376/999 | Loss: 0.0010 |Episodes:20 | Win count: 276 | Win rate: 1.000 | time: 7.03 minutes\n",
      "Epoch: 377/999 | Loss: 0.0006 |Episodes:10 | Win count: 277 | Win rate: 1.000 | time: 7.03 minutes\n",
      "Epoch: 378/999 | Loss: 0.0006 |Episodes:72 | Win count: 278 | Win rate: 1.000 | time: 7.06 minutes\n",
      "Epoch: 379/999 | Loss: 0.0008 |Episodes:2 | Win count: 279 | Win rate: 1.000 | time: 7.06 minutes\n",
      "Epoch: 380/999 | Loss: 0.0012 |Episodes:37 | Win count: 280 | Win rate: 1.000 | time: 7.07 minutes\n",
      "Epoch: 381/999 | Loss: 0.0010 |Episodes:32 | Win count: 281 | Win rate: 1.000 | time: 7.09 minutes\n",
      "Epoch: 382/999 | Loss: 0.0014 |Episodes:26 | Win count: 282 | Win rate: 1.000 | time: 7.10 minutes\n",
      "Epoch: 383/999 | Loss: 0.0004 |Episodes:17 | Win count: 283 | Win rate: 1.000 | time: 7.10 minutes\n",
      "Epoch: 384/999 | Loss: 0.0006 |Episodes:2 | Win count: 284 | Win rate: 1.000 | time: 7.11 minutes\n",
      "Epoch: 385/999 | Loss: 0.0017 |Episodes:1 | Win count: 285 | Win rate: 1.000 | time: 7.11 minutes\n",
      "Epoch: 386/999 | Loss: 0.0009 |Episodes:37 | Win count: 286 | Win rate: 1.000 | time: 7.12 minutes\n",
      "Epoch: 387/999 | Loss: 0.0010 |Episodes:36 | Win count: 287 | Win rate: 1.000 | time: 7.13 minutes\n",
      "Epoch: 388/999 | Loss: 0.0011 |Episodes:1 | Win count: 288 | Win rate: 1.000 | time: 7.13 minutes\n",
      "Epoch: 389/999 | Loss: 0.0011 |Episodes:9 | Win count: 289 | Win rate: 1.000 | time: 7.14 minutes\n",
      "Epoch: 390/999 | Loss: 0.0004 |Episodes:17 | Win count: 290 | Win rate: 1.000 | time: 7.14 minutes\n",
      "Epoch: 391/999 | Loss: 0.0010 |Episodes:8 | Win count: 291 | Win rate: 1.000 | time: 7.15 minutes\n",
      "Epoch: 392/999 | Loss: 0.0008 |Episodes:22 | Win count: 292 | Win rate: 1.000 | time: 7.15 minutes\n",
      "Epoch: 393/999 | Loss: 0.0022 |Episodes:40 | Win count: 293 | Win rate: 1.000 | time: 7.17 minutes\n",
      "Epoch: 394/999 | Loss: 0.0006 |Episodes:20 | Win count: 294 | Win rate: 1.000 | time: 7.17 minutes\n",
      "Epoch: 395/999 | Loss: 0.0009 |Episodes:61 | Win count: 295 | Win rate: 1.000 | time: 7.20 minutes\n",
      "Epoch: 396/999 | Loss: 0.0007 |Episodes:56 | Win count: 296 | Win rate: 1.000 | time: 7.21 minutes\n",
      "Epoch: 397/999 | Loss: 0.0007 |Episodes:9 | Win count: 297 | Win rate: 1.000 | time: 7.22 minutes\n",
      "Epoch: 398/999 | Loss: 0.0011 |Episodes:25 | Win count: 298 | Win rate: 1.000 | time: 7.23 minutes\n",
      "Epoch: 399/999 | Loss: 0.0011 |Episodes:4 | Win count: 299 | Win rate: 1.000 | time: 7.23 minutes\n",
      "Epoch: 400/999 | Loss: 0.0007 |Episodes:3 | Win count: 300 | Win rate: 1.000 | time: 7.23 minutes\n",
      "Epoch: 401/999 | Loss: 0.0014 |Episodes:16 | Win count: 301 | Win rate: 1.000 | time: 7.24 minutes\n",
      "Epoch: 402/999 | Loss: 0.0001 |Episodes:6 | Win count: 302 | Win rate: 1.000 | time: 7.24 minutes\n",
      "Epoch: 403/999 | Loss: 0.0008 |Episodes:20 | Win count: 303 | Win rate: 1.000 | time: 7.25 minutes\n",
      "Epoch: 404/999 | Loss: 0.0013 |Episodes:10 | Win count: 304 | Win rate: 1.000 | time: 7.26 minutes\n",
      "Epoch: 405/999 | Loss: 0.0004 |Episodes:7 | Win count: 305 | Win rate: 1.000 | time: 7.26 minutes\n",
      "Epoch: 406/999 | Loss: 0.0005 |Episodes:2 | Win count: 306 | Win rate: 1.000 | time: 7.26 minutes\n",
      "Epoch: 407/999 | Loss: 0.0007 |Episodes:5 | Win count: 307 | Win rate: 1.000 | time: 7.27 minutes\n",
      "Epoch: 408/999 | Loss: 0.0010 |Episodes:31 | Win count: 308 | Win rate: 1.000 | time: 7.28 minutes\n",
      "Epoch: 409/999 | Loss: 0.0012 |Episodes:15 | Win count: 309 | Win rate: 1.000 | time: 7.28 minutes\n",
      "Epoch: 410/999 | Loss: 0.0017 |Episodes:138 | Win count: 309 | Win rate: 0.969 | time: 7.33 minutes\n",
      "Epoch: 411/999 | Loss: 0.0008 |Episodes:11 | Win count: 310 | Win rate: 0.969 | time: 7.33 minutes\n",
      "Epoch: 412/999 | Loss: 0.0018 |Episodes:9 | Win count: 311 | Win rate: 0.969 | time: 7.33 minutes\n",
      "Epoch: 413/999 | Loss: 0.0009 |Episodes:52 | Win count: 312 | Win rate: 0.969 | time: 7.35 minutes\n",
      "Epoch: 414/999 | Loss: 0.0010 |Episodes:16 | Win count: 313 | Win rate: 0.969 | time: 7.36 minutes\n"
     ]
    },
    {
     "name": "stdout",
     "output_type": "stream",
     "text": [
      "Epoch: 415/999 | Loss: 0.0004 |Episodes:19 | Win count: 314 | Win rate: 0.969 | time: 7.36 minutes\n",
      "Epoch: 416/999 | Loss: 0.0013 |Episodes:9 | Win count: 315 | Win rate: 0.969 | time: 7.36 minutes\n",
      "Epoch: 417/999 | Loss: 0.0002 |Episodes:11 | Win count: 316 | Win rate: 0.969 | time: 7.37 minutes\n",
      "Epoch: 418/999 | Loss: 0.0010 |Episodes:23 | Win count: 317 | Win rate: 0.969 | time: 7.37 minutes\n",
      "Epoch: 419/999 | Loss: 0.0017 |Episodes:1 | Win count: 318 | Win rate: 0.969 | time: 7.37 minutes\n",
      "Epoch: 420/999 | Loss: 0.0011 |Episodes:12 | Win count: 319 | Win rate: 0.969 | time: 7.38 minutes\n",
      "Epoch: 421/999 | Loss: 0.0010 |Episodes:33 | Win count: 320 | Win rate: 0.969 | time: 7.39 minutes\n",
      "Epoch: 422/999 | Loss: 0.0004 |Episodes:34 | Win count: 321 | Win rate: 0.969 | time: 7.40 minutes\n",
      "Epoch: 423/999 | Loss: 0.0005 |Episodes:22 | Win count: 322 | Win rate: 0.969 | time: 7.41 minutes\n",
      "Epoch: 424/999 | Loss: 0.0003 |Episodes:11 | Win count: 323 | Win rate: 0.969 | time: 7.41 minutes\n",
      "Epoch: 425/999 | Loss: 0.0009 |Episodes:8 | Win count: 324 | Win rate: 0.969 | time: 7.42 minutes\n",
      "Epoch: 426/999 | Loss: 0.0001 |Episodes:20 | Win count: 325 | Win rate: 0.969 | time: 7.42 minutes\n",
      "Epoch: 427/999 | Loss: 0.0009 |Episodes:39 | Win count: 326 | Win rate: 0.969 | time: 7.43 minutes\n",
      "Epoch: 428/999 | Loss: 0.0002 |Episodes:17 | Win count: 327 | Win rate: 0.969 | time: 7.44 minutes\n",
      "Epoch: 429/999 | Loss: 0.0017 |Episodes:24 | Win count: 328 | Win rate: 0.969 | time: 7.45 minutes\n",
      "Epoch: 430/999 | Loss: 0.0001 |Episodes:53 | Win count: 329 | Win rate: 0.969 | time: 7.46 minutes\n",
      "Epoch: 431/999 | Loss: 0.0004 |Episodes:31 | Win count: 330 | Win rate: 0.969 | time: 7.47 minutes\n",
      "Epoch: 432/999 | Loss: 0.0024 |Episodes:34 | Win count: 331 | Win rate: 0.969 | time: 7.48 minutes\n",
      "Epoch: 433/999 | Loss: 0.0008 |Episodes:13 | Win count: 332 | Win rate: 0.969 | time: 7.48 minutes\n",
      "Epoch: 434/999 | Loss: 0.0008 |Episodes:26 | Win count: 333 | Win rate: 0.969 | time: 7.49 minutes\n",
      "Epoch: 435/999 | Loss: 0.0003 |Episodes:26 | Win count: 334 | Win rate: 0.969 | time: 7.50 minutes\n",
      "Epoch: 436/999 | Loss: 0.0008 |Episodes:11 | Win count: 335 | Win rate: 0.969 | time: 7.50 minutes\n",
      "Epoch: 437/999 | Loss: 0.0008 |Episodes:7 | Win count: 336 | Win rate: 0.969 | time: 7.51 minutes\n",
      "Epoch: 438/999 | Loss: 0.0009 |Episodes:17 | Win count: 337 | Win rate: 0.969 | time: 7.51 minutes\n",
      "Epoch: 439/999 | Loss: 0.0013 |Episodes:43 | Win count: 338 | Win rate: 0.969 | time: 7.52 minutes\n",
      "Epoch: 440/999 | Loss: 0.0015 |Episodes:36 | Win count: 339 | Win rate: 0.969 | time: 7.53 minutes\n",
      "Epoch: 441/999 | Loss: 0.0008 |Episodes:38 | Win count: 340 | Win rate: 0.969 | time: 7.55 minutes\n",
      "Epoch: 442/999 | Loss: 0.0016 |Episodes:21 | Win count: 341 | Win rate: 1.000 | time: 7.55 minutes\n",
      "Epoch: 443/999 | Loss: 0.0021 |Episodes:26 | Win count: 342 | Win rate: 1.000 | time: 7.56 minutes\n",
      "Epoch: 444/999 | Loss: 0.0024 |Episodes:31 | Win count: 343 | Win rate: 1.000 | time: 7.57 minutes\n",
      "Epoch: 445/999 | Loss: 0.0005 |Episodes:1 | Win count: 344 | Win rate: 1.000 | time: 7.57 minutes\n",
      "Epoch: 446/999 | Loss: 0.0007 |Episodes:22 | Win count: 345 | Win rate: 1.000 | time: 7.59 minutes\n",
      "Epoch: 447/999 | Loss: 0.0015 |Episodes:28 | Win count: 346 | Win rate: 1.000 | time: 7.60 minutes\n",
      "Epoch: 448/999 | Loss: 0.0013 |Episodes:9 | Win count: 347 | Win rate: 1.000 | time: 7.60 minutes\n",
      "Epoch: 449/999 | Loss: 0.0015 |Episodes:2 | Win count: 348 | Win rate: 1.000 | time: 7.60 minutes\n",
      "Epoch: 450/999 | Loss: 0.0022 |Episodes:2 | Win count: 349 | Win rate: 1.000 | time: 7.61 minutes\n",
      "Epoch: 451/999 | Loss: 0.0013 |Episodes:19 | Win count: 350 | Win rate: 1.000 | time: 7.61 minutes\n",
      "Epoch: 452/999 | Loss: 0.0009 |Episodes:20 | Win count: 351 | Win rate: 1.000 | time: 7.62 minutes\n",
      "Epoch: 453/999 | Loss: 0.0007 |Episodes:25 | Win count: 352 | Win rate: 1.000 | time: 7.63 minutes\n",
      "Epoch: 454/999 | Loss: 0.0015 |Episodes:86 | Win count: 353 | Win rate: 1.000 | time: 7.66 minutes\n",
      "Epoch: 455/999 | Loss: 0.0018 |Episodes:69 | Win count: 354 | Win rate: 1.000 | time: 7.68 minutes\n",
      "Epoch: 456/999 | Loss: 0.0017 |Episodes:8 | Win count: 355 | Win rate: 1.000 | time: 7.69 minutes\n",
      "Epoch: 457/999 | Loss: 0.0015 |Episodes:25 | Win count: 356 | Win rate: 1.000 | time: 7.70 minutes\n",
      "Epoch: 458/999 | Loss: 0.0020 |Episodes:61 | Win count: 357 | Win rate: 1.000 | time: 7.72 minutes\n",
      "Epoch: 459/999 | Loss: 0.0017 |Episodes:29 | Win count: 358 | Win rate: 1.000 | time: 7.72 minutes\n",
      "Epoch: 460/999 | Loss: 0.0013 |Episodes:23 | Win count: 359 | Win rate: 1.000 | time: 7.73 minutes\n",
      "Epoch: 461/999 | Loss: 0.0271 |Episodes:35 | Win count: 360 | Win rate: 1.000 | time: 7.74 minutes\n",
      "Epoch: 462/999 | Loss: 0.0032 |Episodes:20 | Win count: 361 | Win rate: 1.000 | time: 7.75 minutes\n",
      "Epoch: 463/999 | Loss: 0.0015 |Episodes:124 | Win count: 362 | Win rate: 1.000 | time: 7.79 minutes\n",
      "Epoch: 464/999 | Loss: 0.0005 |Episodes:10 | Win count: 363 | Win rate: 1.000 | time: 7.79 minutes\n",
      "Epoch: 465/999 | Loss: 0.0024 |Episodes:47 | Win count: 364 | Win rate: 1.000 | time: 7.81 minutes\n",
      "Epoch: 466/999 | Loss: 0.0123 |Episodes:127 | Win count: 365 | Win rate: 1.000 | time: 7.86 minutes\n",
      "Epoch: 467/999 | Loss: 0.0022 |Episodes:18 | Win count: 366 | Win rate: 1.000 | time: 7.87 minutes\n",
      "Epoch: 468/999 | Loss: 0.0015 |Episodes:31 | Win count: 367 | Win rate: 1.000 | time: 7.88 minutes\n",
      "Epoch: 469/999 | Loss: 0.0012 |Episodes:1 | Win count: 368 | Win rate: 1.000 | time: 7.88 minutes\n",
      "Epoch: 470/999 | Loss: 0.0006 |Episodes:1 | Win count: 369 | Win rate: 1.000 | time: 7.89 minutes\n",
      "Epoch: 471/999 | Loss: 0.0007 |Episodes:8 | Win count: 370 | Win rate: 1.000 | time: 7.89 minutes\n",
      "Epoch: 472/999 | Loss: 0.0006 |Episodes:143 | Win count: 371 | Win rate: 1.000 | time: 7.94 minutes\n",
      "Epoch: 473/999 | Loss: 0.0007 |Episodes:2 | Win count: 372 | Win rate: 1.000 | time: 7.95 minutes\n",
      "Epoch: 474/999 | Loss: 0.0007 |Episodes:9 | Win count: 373 | Win rate: 1.000 | time: 7.95 minutes\n",
      "Epoch: 475/999 | Loss: 0.0016 |Episodes:15 | Win count: 374 | Win rate: 1.000 | time: 7.95 minutes\n",
      "Epoch: 476/999 | Loss: 0.0014 |Episodes:67 | Win count: 375 | Win rate: 1.000 | time: 7.98 minutes\n",
      "Epoch: 477/999 | Loss: 0.0009 |Episodes:13 | Win count: 376 | Win rate: 1.000 | time: 7.98 minutes\n",
      "Epoch: 478/999 | Loss: 0.0016 |Episodes:2 | Win count: 377 | Win rate: 1.000 | time: 7.99 minutes\n",
      "Epoch: 479/999 | Loss: 0.0021 |Episodes:68 | Win count: 378 | Win rate: 1.000 | time: 8.02 minutes\n",
      "Epoch: 480/999 | Loss: 0.0006 |Episodes:25 | Win count: 379 | Win rate: 1.000 | time: 8.02 minutes\n",
      "Epoch: 481/999 | Loss: 0.0010 |Episodes:13 | Win count: 380 | Win rate: 1.000 | time: 8.04 minutes\n",
      "Epoch: 482/999 | Loss: 0.0010 |Episodes:8 | Win count: 381 | Win rate: 1.000 | time: 8.04 minutes\n",
      "Epoch: 483/999 | Loss: 0.0018 |Episodes:6 | Win count: 382 | Win rate: 1.000 | time: 8.04 minutes\n",
      "Epoch: 484/999 | Loss: 0.0009 |Episodes:30 | Win count: 383 | Win rate: 1.000 | time: 8.06 minutes\n",
      "Epoch: 485/999 | Loss: 0.0008 |Episodes:5 | Win count: 384 | Win rate: 1.000 | time: 8.06 minutes\n",
      "Epoch: 486/999 | Loss: 0.0014 |Episodes:3 | Win count: 385 | Win rate: 1.000 | time: 8.06 minutes\n",
      "Epoch: 487/999 | Loss: 0.0006 |Episodes:17 | Win count: 386 | Win rate: 1.000 | time: 8.07 minutes\n",
      "Epoch: 488/999 | Loss: 0.0013 |Episodes:23 | Win count: 387 | Win rate: 1.000 | time: 8.07 minutes\n",
      "Epoch: 489/999 | Loss: 0.0009 |Episodes:4 | Win count: 388 | Win rate: 1.000 | time: 8.08 minutes\n",
      "Epoch: 490/999 | Loss: 0.0017 |Episodes:7 | Win count: 389 | Win rate: 1.000 | time: 8.08 minutes\n",
      "Epoch: 491/999 | Loss: 0.0028 |Episodes:35 | Win count: 390 | Win rate: 1.000 | time: 8.10 minutes\n",
      "Epoch: 492/999 | Loss: 0.0008 |Episodes:2 | Win count: 391 | Win rate: 1.000 | time: 8.10 minutes\n",
      "Epoch: 493/999 | Loss: 0.0010 |Episodes:74 | Win count: 392 | Win rate: 1.000 | time: 8.12 minutes\n",
      "Epoch: 494/999 | Loss: 0.0010 |Episodes:12 | Win count: 393 | Win rate: 1.000 | time: 8.13 minutes\n",
      "Epoch: 495/999 | Loss: 0.0018 |Episodes:28 | Win count: 394 | Win rate: 1.000 | time: 8.14 minutes\n",
      "Epoch: 496/999 | Loss: 0.0016 |Episodes:22 | Win count: 395 | Win rate: 1.000 | time: 8.15 minutes\n",
      "Epoch: 497/999 | Loss: 0.0005 |Episodes:13 | Win count: 396 | Win rate: 1.000 | time: 8.15 minutes\n"
     ]
    },
    {
     "name": "stdout",
     "output_type": "stream",
     "text": [
      "Epoch: 498/999 | Loss: 0.0015 |Episodes:7 | Win count: 397 | Win rate: 1.000 | time: 8.16 minutes\n",
      "Epoch: 499/999 | Loss: 0.0004 |Episodes:2 | Win count: 398 | Win rate: 1.000 | time: 8.16 minutes\n",
      "Epoch: 500/999 | Loss: 0.0015 |Episodes:1 | Win count: 399 | Win rate: 1.000 | time: 8.17 minutes\n",
      "Epoch: 501/999 | Loss: 0.0015 |Episodes:19 | Win count: 400 | Win rate: 1.000 | time: 8.17 minutes\n",
      "Epoch: 502/999 | Loss: 0.0012 |Episodes:37 | Win count: 401 | Win rate: 1.000 | time: 8.19 minutes\n",
      "Epoch: 503/999 | Loss: 0.0009 |Episodes:17 | Win count: 402 | Win rate: 1.000 | time: 8.20 minutes\n",
      "Epoch: 504/999 | Loss: 0.0008 |Episodes:19 | Win count: 403 | Win rate: 1.000 | time: 8.20 minutes\n",
      "Epoch: 505/999 | Loss: 0.0010 |Episodes:78 | Win count: 404 | Win rate: 1.000 | time: 8.23 minutes\n",
      "Epoch: 506/999 | Loss: 0.0006 |Episodes:29 | Win count: 405 | Win rate: 1.000 | time: 8.24 minutes\n",
      "Epoch: 507/999 | Loss: 0.0015 |Episodes:15 | Win count: 406 | Win rate: 1.000 | time: 8.24 minutes\n",
      "Epoch: 508/999 | Loss: 0.0008 |Episodes:23 | Win count: 407 | Win rate: 1.000 | time: 8.25 minutes\n",
      "Epoch: 509/999 | Loss: 0.0020 |Episodes:69 | Win count: 408 | Win rate: 1.000 | time: 8.28 minutes\n",
      "Epoch: 510/999 | Loss: 0.0004 |Episodes:35 | Win count: 409 | Win rate: 1.000 | time: 8.29 minutes\n",
      "Epoch: 511/999 | Loss: 0.0007 |Episodes:18 | Win count: 410 | Win rate: 1.000 | time: 8.29 minutes\n",
      "Epoch: 512/999 | Loss: 0.0012 |Episodes:35 | Win count: 411 | Win rate: 1.000 | time: 8.31 minutes\n",
      "Epoch: 513/999 | Loss: 0.0010 |Episodes:29 | Win count: 412 | Win rate: 1.000 | time: 8.32 minutes\n",
      "Epoch: 514/999 | Loss: 0.0008 |Episodes:2 | Win count: 413 | Win rate: 1.000 | time: 8.32 minutes\n",
      "Epoch: 515/999 | Loss: 0.0005 |Episodes:25 | Win count: 414 | Win rate: 1.000 | time: 8.33 minutes\n",
      "Epoch: 516/999 | Loss: 0.0009 |Episodes:23 | Win count: 415 | Win rate: 1.000 | time: 8.34 minutes\n",
      "Epoch: 517/999 | Loss: 0.0007 |Episodes:44 | Win count: 416 | Win rate: 1.000 | time: 8.36 minutes\n",
      "Epoch: 518/999 | Loss: 0.0010 |Episodes:20 | Win count: 417 | Win rate: 1.000 | time: 8.38 minutes\n",
      "Epoch: 519/999 | Loss: 0.0008 |Episodes:24 | Win count: 418 | Win rate: 1.000 | time: 8.39 minutes\n",
      "Epoch: 520/999 | Loss: 0.0005 |Episodes:2 | Win count: 419 | Win rate: 1.000 | time: 8.39 minutes\n",
      "Epoch: 521/999 | Loss: 0.0005 |Episodes:25 | Win count: 420 | Win rate: 1.000 | time: 8.40 minutes\n",
      "Epoch: 522/999 | Loss: 0.0005 |Episodes:11 | Win count: 421 | Win rate: 1.000 | time: 8.40 minutes\n",
      "Epoch: 523/999 | Loss: 0.0004 |Episodes:48 | Win count: 422 | Win rate: 1.000 | time: 8.42 minutes\n",
      "Epoch: 524/999 | Loss: 0.0005 |Episodes:14 | Win count: 423 | Win rate: 1.000 | time: 8.43 minutes\n",
      "Epoch: 525/999 | Loss: 0.0003 |Episodes:1 | Win count: 424 | Win rate: 1.000 | time: 8.44 minutes\n",
      "Epoch: 526/999 | Loss: 0.0002 |Episodes:28 | Win count: 425 | Win rate: 1.000 | time: 8.45 minutes\n",
      "Reached 100% win rate at epoch: 526\n",
      "n_epoch: 526, max_mem: 512, data: 32, time: 8.46 minutes\n"
     ]
    },
    {
     "data": {
      "text/plain": [
       "507.640393"
      ]
     },
     "execution_count": 59,
     "metadata": {},
     "output_type": "execute_result"
    }
   ],
   "source": [
    "model = build_model(maze)\n",
    "qtrain(model, maze, epochs=1000, max_memory=8*maze.size, data_size=32)"
   ]
  },
  {
   "cell_type": "markdown",
   "metadata": {},
   "source": [
    "This cell will check to see if the model passes the completion check. Note: This could take several minutes."
   ]
  },
  {
   "cell_type": "code",
   "execution_count": 60,
   "metadata": {},
   "outputs": [
    {
     "data": {
      "text/plain": [
       "<matplotlib.image.AxesImage at 0x12c65d0ee48>"
      ]
     },
     "execution_count": 60,
     "metadata": {},
     "output_type": "execute_result"
    },
    {
     "data": {
      "image/png": "[encoded data removed]",
      "text/plain": [
       "<Figure size 432x288 with 1 Axes>"
      ]
     },
     "metadata": {
      "needs_background": "light"
     },
     "output_type": "display_data"
    }
   ],
   "source": [
    "completion_check(model, qmaze)\n",
    "show(qmaze)"
   ]
  },
  {
   "cell_type": "markdown",
   "metadata": {},
   "source": [
    "This cell will test your model for one game. It will start the pirate at the top-left corner and run play_game. The agent should find a path from the starting position to the target (treasure). The treasure is located in the bottom-right corner."
   ]
  },
  {
   "cell_type": "code",
   "execution_count": 61,
   "metadata": {},
   "outputs": [
    {
     "data": {
      "text/plain": [
       "<matplotlib.image.AxesImage at 0x12c65034b88>"
      ]
     },
     "execution_count": 61,
     "metadata": {},
     "output_type": "execute_result"
    },
    {
     "data": {
      "image/png": "[encoded data removed]",
      "text/plain": [
       "<Figure size 432x288 with 1 Axes>"
      ]
     },
     "metadata": {
      "needs_background": "light"
     },
     "output_type": "display_data"
    }
   ],
   "source": [
    "pirate_start = (0, 0)\n",
    "play_game(model, qmaze, pirate_start)\n",
    "show(qmaze)"
   ]
  },
  {
   "cell_type": "markdown",
   "metadata": {},
   "source": [
    "## Save and Submit Your Work\n",
    "After you have finished creating the code for your notebook, save your work. Make sure that your notebook contains your name in the filename (e.g. Doe_Jane_ProjectTwo.ipynb). This will help your instructor access and grade your work easily. Download a copy of your IPYNB file and submit it to Brightspace. Refer to the Jupyter Notebook in Apporto Tutorial if you need help with these tasks."
   ]
  },
  {
   "cell_type": "code",
   "execution_count": null,
   "metadata": {},
   "outputs": [],
   "source": []
  },
  {
   "cell_type": "code",
   "execution_count": null,
   "metadata": {},
   "outputs": [],
   "source": []
  },
  {
   "cell_type": "code",
   "execution_count": null,
   "metadata": {},
   "outputs": [],
   "source": []
  },
  {
   "cell_type": "code",
   "execution_count": null,
   "metadata": {},
   "outputs": [],
   "source": []
  },
  {
   "cell_type": "code",
   "execution_count": null,
   "metadata": {},
   "outputs": [],
   "source": []
  }
 ],
 "metadata": {
  "kernelspec": {
   "display_name": "Python 3",
   "language": "python",
   "name": "python3"
  },
  "language_info": {
   "codemirror_mode": {
    "name": "ipython",
    "version": 3
   },
   "file_extension": ".py",
   "mimetype": "text/x-python",
   "name": "python",
   "nbconvert_exporter": "python",
   "pygments_lexer": "ipython3",
   "version": "3.7.4"
  }
 },
 "nbformat": 4,
 "nbformat_minor": 2
}
